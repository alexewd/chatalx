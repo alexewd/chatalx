{
 "cells": [
  {
   "cell_type": "code",
   "execution_count": 1,
   "metadata": {},
   "outputs": [
    {
     "name": "stdout",
     "output_type": "stream",
     "text": [
      "*** Introductory Examples for the NLTK Book ***\n",
      "Loading text1, ..., text9 and sent1, ..., sent9\n",
      "Type the name of the text or sentence to view it.\n",
      "Type: 'texts()' or 'sents()' to list the materials.\n",
      "text1: Moby Dick by Herman Melville 1851\n",
      "text2: Sense and Sensibility by Jane Austen 1811\n",
      "text3: The Book of Genesis\n",
      "text4: Inaugural Address Corpus\n",
      "text5: Chat Corpus\n",
      "text6: Monty Python and the Holy Grail\n",
      "text7: Wall Street Journal\n",
      "text8: Personals Corpus\n",
      "text9: The Man Who Was Thursday by G . K . Chesterton 1908\n"
     ]
    }
   ],
   "source": [
    "import nltk\n",
    "from nltk.book import *"
   ]
  },
  {
   "cell_type": "code",
   "execution_count": 2,
   "metadata": {},
   "outputs": [
    {
     "name": "stdout",
     "output_type": "stream",
     "text": [
      "text1: Moby Dick by Herman Melville 1851\n",
      "text2: Sense and Sensibility by Jane Austen 1811\n",
      "text3: The Book of Genesis\n",
      "text4: Inaugural Address Corpus\n",
      "text5: Chat Corpus\n",
      "text6: Monty Python and the Holy Grail\n",
      "text7: Wall Street Journal\n",
      "text8: Personals Corpus\n",
      "text9: The Man Who Was Thursday by G . K . Chesterton 1908\n"
     ]
    }
   ],
   "source": [
    "texts()"
   ]
  },
  {
   "cell_type": "code",
   "execution_count": 1,
   "metadata": {},
   "outputs": [
    {
     "name": "stdout",
     "output_type": "stream",
     "text": [
      "f:\\chatepc\\chatalx\n"
     ]
    }
   ],
   "source": [
    "import os\n",
    "from os import path\n",
    "# print(path)\n",
    "print(os.getcwd())"
   ]
  },
  {
   "cell_type": "code",
   "execution_count": null,
   "metadata": {},
   "outputs": [],
   "source": [
    "# os.chdir('/путь/к/новому/каталогу')\n",
    "# print(os.getcwd())"
   ]
  },
  {
   "cell_type": "code",
   "execution_count": 8,
   "metadata": {},
   "outputs": [],
   "source": [
    "# Import word_tokenize as wtoken\n",
    "from nltk.tokenize import word_tokenize\n",
    "# Open Adventures_Holmes.txt and performs tokenization\n",
    "f_poslanie = open('f:\\chatepc\\chatalx\\work\\data\\poslanie.txt',\"r\",encoding=\"utf-8\").read()\n",
    "poslanie_tokens = word_tokenize(f_poslanie)\n",
    "tok_poslanie=nltk.text.Text(poslanie_tokens)"
   ]
  },
  {
   "cell_type": "code",
   "execution_count": 9,
   "metadata": {},
   "outputs": [
    {
     "name": "stdout",
     "output_type": "stream",
     "text": [
      "Displaying 11 of 11 matches:\n",
      "да , через который проходит сегодня Россия . Такой ключевой показатель , как с\n",
      "м развитии , мы запустили проект `` Россия - страна возможностей '' . Уже боле\n",
      "жаемые коллеги ! Хочу подчеркнуть , Россия готова поддержать совместные исслед\n",
      "ей стал сегодня и интернет . Причем Россия - одна из немногих стран в мире , г\n",
      "временных международных отношений . Россия открыта для укрепления сотрудничест\n",
      "здать оружие , которым уже обладает Россия . Обороноспособность страны обеспеч\n",
      "овека , его благополучие . Первое : Россия может быть и оставаться Россией тол\n",
      "актически олигархическими кланами , Россия вернулась в международную политику \n",
      "ную индексацию пенсий . Четвертое . Россия - огромная страна , и у каждого суб\n",
      " в форме парламентской республики . Россия должна оставаться сильной президент\n",
      "о слово - `` вместе '' , потому что Россия - это мы . Я имею в виду не тех , к\n"
     ]
    }
   ],
   "source": [
    "tok_poslanie.concordance(\"Россия\")"
   ]
  },
  {
   "cell_type": "code",
   "execution_count": 13,
   "metadata": {},
   "outputs": [
    {
     "name": "stdout",
     "output_type": "stream",
     "text": [
      "олимпиад безопасность воды укреплены\n"
     ]
    }
   ],
   "source": [
    "tok_poslanie.similar(\"сегодня\")"
   ]
  },
  {
   "cell_type": "code",
   "execution_count": 17,
   "metadata": {},
   "outputs": [
    {
     "name": "stdout",
     "output_type": "stream",
     "text": [
      "No common contexts were found\n"
     ]
    }
   ],
   "source": [
    "tok_poslanie.common_contexts([\"вместе\",\"мы\"])"
   ]
  },
  {
   "cell_type": "code",
   "execution_count": 18,
   "metadata": {},
   "outputs": [
    {
     "data": {
      "image/png": "[encoded data removed]",
      "text/plain": [
       "<Figure size 640x480 with 1 Axes>"
      ]
     },
     "metadata": {},
     "output_type": "display_data"
    }
   ],
   "source": [
    "tok_poslanie.dispersion_plot([\"вместе\",\"мы\", \"Россия\"])"
   ]
  },
  {
   "cell_type": "code",
   "execution_count": 20,
   "metadata": {},
   "outputs": [],
   "source": [
    "fd = FreqDist(f_poslanie)"
   ]
  },
  {
   "cell_type": "code",
   "execution_count": 21,
   "metadata": {},
   "outputs": [
    {
     "data": {
      "text/plain": [
       "FreqDist({' ': 7451, 'о': 5064, 'е': 4175, 'и': 3373, 'а': 3304, 'т': 3204, 'н': 3166, 'с': 2549, 'р': 2232, 'в': 1962, ...})"
      ]
     },
     "execution_count": 21,
     "metadata": {},
     "output_type": "execute_result"
    }
   ],
   "source": [
    "fd"
   ]
  },
  {
   "cell_type": "code",
   "execution_count": 23,
   "metadata": {},
   "outputs": [
    {
     "data": {
      "text/plain": [
       "dict_keys(['1', '5', ' ', 'я', 'н', 'в', 'а', 'р', '2', '0', 'г', 'о', 'д', '\\n', '-', '\\xa0', 'П', 'О', 'С', 'Л', 'А', 'Н', 'И', 'Е', 'Р', 'З', 'Д', 'Т', 'Й', 'К', 'Ф', 'Ц', 'Ь', 'М', 'У', 'Б', 'Ю', 'ж', 'е', 'м', 'ы', 'ч', 'л', 'т', 'ц', 'и', 'п', 'у', 'Г', 'с', 'й', '!', 'ь', 'б', 'ю', 'ш', '.', ',', 'к', 'э', 'х', 'з', 'щ', 'ф', '(', ')', '4', '7', '9', 'Ч', 'В', '?', ':', '3', '6', 'Х', '8', 'ъ', 'Э', 'Я', '\"', 'X', 'I', 'Ш'])"
      ]
     },
     "execution_count": 23,
     "metadata": {},
     "output_type": "execute_result"
    }
   ],
   "source": [
    "token = fd.keys()\n",
    "token"
   ]
  },
  {
   "cell_type": "code",
   "execution_count": 27,
   "metadata": {},
   "outputs": [
    {
     "data": {
      "text/plain": [
       "1544"
      ]
     },
     "execution_count": 27,
     "metadata": {},
     "output_type": "execute_result"
    }
   ],
   "source": [
    "# frequency distribution of any token types\n",
    "fd['д']"
   ]
  },
  {
   "cell_type": "code",
   "execution_count": 28,
   "metadata": {},
   "outputs": [
    {
     "data": {
      "text/plain": [
       "<Axes: xlabel='Samples', ylabel='Counts'>"
      ]
     },
     "execution_count": 28,
     "metadata": {},
     "output_type": "execute_result"
    },
    {
     "data": {
      "image/png": "[encoded data removed]",
      "text/plain": [
       "<Figure size 640x480 with 1 Axes>"
      ]
     },
     "metadata": {},
     "output_type": "display_data"
    }
   ],
   "source": [
    "fd.plot (30,cumulative=False)"
   ]
  },
  {
   "cell_type": "code",
   "execution_count": 32,
   "metadata": {},
   "outputs": [
    {
     "data": {
      "text/plain": [
       "<generator object ngrams at 0x0000015E5FCB6350>"
      ]
     },
     "execution_count": 32,
     "metadata": {},
     "output_type": "execute_result"
    }
   ],
   "source": [
    "import re, string\n",
    "import nltk\n",
    "from nltk import ngrams\n",
    "\n",
    "tokenized = f_poslanie.split()\n",
    "# and get a list of all the bi-grams\n",
    "Bigrams = ngrams(tokenized, 2)\n",
    "Bigrams"
   ]
  },
  {
   "cell_type": "code",
   "execution_count": 34,
   "metadata": {},
   "outputs": [
    {
     "data": {
      "text/plain": [
       "[(('и', 'в'), 14),\n",
       " (('-', 'это'), 13),\n",
       " (('В', 'этой'), 13),\n",
       " (('этой', 'связи'), 12),\n",
       " (('не', 'только'), 12),\n",
       " (('но', 'и'), 9),\n",
       " (('Уважаемые', 'коллеги!'), 8),\n",
       " (('у', 'нас'), 8),\n",
       " (('мы', 'должны'), 8),\n",
       " (('не', 'менее'), 8),\n",
       " (('в', 'том'), 8),\n",
       " (('том', 'числе'), 8),\n",
       " (('в', 'России'), 8),\n",
       " (('прежде', 'всего'), 7),\n",
       " (('а', 'также'), 7),\n",
       " (('тех,', 'кто'), 7),\n",
       " (('При', 'этом'), 7),\n",
       " (('должны', 'быть'), 7),\n",
       " (('том,', 'что'), 6),\n",
       " (('связи', 'предлагаю'), 6)]"
      ]
     },
     "execution_count": 34,
     "metadata": {},
     "output_type": "execute_result"
    }
   ],
   "source": [
    "import collections\n",
    "# and get a list of all the bi-grams\n",
    "Bigrams = ngrams(tokenized, 2)\n",
    "# get the frequency of each bigram in our corpus\n",
    "BigramFreq = collections.Counter(Bigrams)\n",
    "# what are the 20 most popular ngrams in this corpus?\n",
    "BigramFreq.most_common(20)"
   ]
  },
  {
   "cell_type": "code",
   "execution_count": 36,
   "metadata": {},
   "outputs": [
    {
     "name": "stdout",
     "output_type": "stream",
     "text": [
      "Apple рассматривает возможность покупки стартапа из Соединённого Королевства за $1 млрд\n",
      "Apple PROPN nsubj\n",
      "рассматривает VERB ROOT\n",
      "возможность NOUN obj\n",
      "покупки NOUN nmod\n",
      "стартапа NOUN nmod\n",
      "из ADP case\n",
      "Соединённого ADJ amod\n",
      "Королевства PROPN nmod\n",
      "за ADP case\n",
      "$ SYM nmod\n",
      "1 NUM appos\n",
      "млрд NOUN punct\n"
     ]
    }
   ],
   "source": [
    "import spacy\n",
    "from spacy.lang.ru.examples import sentences \n",
    "\n",
    "nlp = spacy.load(\"ru_core_news_sm\")\n",
    "doc = nlp(sentences[0])\n",
    "print(doc.text)\n",
    "for token in doc:\n",
    "    print(token.text, token.pos_, token.dep_)"
   ]
  },
  {
   "cell_type": "code",
   "execution_count": 38,
   "metadata": {},
   "outputs": [],
   "source": [
    "import spacy\n",
    "# nlp = spacy.load( \"ru_core_news_sm\" )\n",
    "posl_doc = nlp(f_poslanie)\n",
    "# posl_doc"
   ]
  },
  {
   "cell_type": "code",
   "execution_count": 39,
   "metadata": {},
   "outputs": [
    {
     "data": {
      "text/plain": [
       "['15 января 2020 года\\n------------------------------------------------------------------\\n\\xa0\\nПОСЛАНИЕ\\n\\xa0\\nПРЕЗИДЕНТА РОССИЙСКОЙ ФЕДЕРАЦИИ\\n\\xa0\\nФЕДЕРАЛЬНОМУ СОБРАНИЮ РОССИЙСКОЙ ФЕДЕРАЦИИ\\n\\xa0\\nПОСЛАНИЕ ПРЕЗИДЕНТА ФЕДЕРАЛЬНОМУ СОБРАНИЮ\\n\\xa0\\n',\n",
       " 'Уважаемые члены Совета Федерации и депутаты Государственной Думы!',\n",
       " 'Уважаемые граждане России!\\n',\n",
       " 'Послание Федеральному Собранию впервые оглашается в самом начале года.',\n",
       " 'Нам нужно быстрее, не откладывая, решать масштабные социальные, экономические, технологические задачи, перед которыми стоит страна.\\n',\n",
       " 'Их содержание и ориентиры отражены в национальных проектах, реализация которых требует нового качества государственного управления, работы Правительства, всех уровней власти, прямого диалога с гражданами.\\n',\n",
       " 'Сегодня в нашем обществе четко обозначился запрос на перемены.',\n",
       " 'Люди хотят развития и сами стремятся двигаться вперед в профессии, знаниях, в достижении благополучия, готовы брать на себя ответственность за конкретные дела.',\n",
       " 'Зачастую они лучше знают, что, почему и как надо менять там, где они живут, работают - в городах, районах, селах, по всей стране.\\n',\n",
       " 'Темпы изменений должны нарастать с каждым годом, с ощутимыми для граждан результатами по достижению достойного уровня жизни.',\n",
       " 'И, повторю, с их активным участием.\\n',\n",
       " 'Уважаемые коллеги!\\n',\n",
       " 'Судьба России, ее историческая 1 зависит от того, сколько нас будет (хочу содержательную часть начать именно с демографии), зависит от того, сколько детей родится в российских семьях через год, через пять, десять лет, какими они вырастут, кем станут, что сделают для развития страны и какие ценности будут для них опорой в жизни.\\n',\n",
       " 'Сегодня нас почти 147 миллионов человек.',\n",
       " 'Но мы вступили в сложный, очень сложный демографический период.',\n",
       " 'Его особенность в том, что благодаря мерам, которые мы приняли начиная с середины 2000 годов, нам удалось добиться положительных результатов в демографии.',\n",
       " 'И даже выйти на естественный прирост населения.',\n",
       " 'Потому и школьников у нас становится все больше.\\n',\n",
       " 'Но семьи-то сейчас создают малочисленные поколения 90-х годов.',\n",
       " 'Число рождений вновь падает.',\n",
       " 'Вот в чем напряженность демографического периода, через который проходит сегодня Россия.\\n',\n",
       " 'Такой ключевой показатель, как суммарный коэффициент рождаемости, то есть число рождений, приходящихся на одну женщину, в 2019 году составил, по предварительной оценке, 1,5.',\n",
       " 'Много это или мало?',\n",
       " 'Для нашей страны - мало.',\n",
       " 'Да, это примерно то же самое, что и во многих европейских странах.',\n",
       " 'Но для нашей страны - мало.\\n',\n",
       " 'Для сравнения: 1,3 было в 1943 году, во время Великой Отечественной войны.',\n",
       " 'Правда, еще хуже было в 90-х годах.',\n",
       " 'В 1999-м, например, 1,16 всего.',\n",
       " 'Хуже, чем во время Великой Отечественной войны.',\n",
       " 'Семьи с двумя детьми тогда были редкостью, а то и вовсе люди вынужденно откладывали рождение ребенка.\\n',\n",
       " 'Повторю: существующие сейчас негативные прогнозы не могут нас не настораживать.',\n",
       " 'Наша историческая обязанность - ответить на этот вызов.',\n",
       " 'Не только выбраться из демографической ловушки, но и к середине наступающего десятилетия обеспечить устойчивый естественный рост численности населения страны.',\n",
       " 'В 2024 году коэффициент рождаемости должен быть 1,7.\\n',\n",
       " 'Демография - это сфера, где нет какого-то универсального, тем более узковедомственного решения.',\n",
       " 'Каждый наш шаг, новый закон, государственную программу мы должны оценивать прежде всего с точки зрения высшего национального приоритета - сбережения и приумножения народа России.\\n',\n",
       " 'Выстраивая долгосрочную политику поддержки семьи, нужно идти от конкретных жизненных ситуаций, разбираться, с какими трудностями сталкивается молодая, многодетная или неполная семья.\\n',\n",
       " 'Так, важнейший, чувствительный вопрос - возможность устроить ребенка в ясли.',\n",
       " 'Мы выделили средства из федерального бюджета, чтобы помочь регионам до конца 2021 года создать 255 тысяч новых мест в яслях.',\n",
       " 'Однако за 2018 - 2019 годы вместо девяноста тысяч таких мест создано 78 тысяч.',\n",
       " 'Из них реально могут быть предоставлены малышам 37,5 тысячи мест.',\n",
       " 'На остальные до сих пор просто не получена образовательная лицензия.',\n",
       " 'Значит такие ясли не готовы принять детей.\\n',\n",
       " 'Уважаемые главы субъектов Федерации, дорогие мои коллеги, нельзя так работать.',\n",
       " 'Ну вы чего?',\n",
       " 'Это значит, что мы создали 77,7 тысячи, да и то не в полноценном режиме, имею в виду, что половина из них не может работать, а к 2021 году нужно создать 177,3.',\n",
       " 'Я вас прошу сделать все, хотя это уже очень сложно, тем не менее это нужно сделать - нужно наверстать этот пробел.',\n",
       " 'Повторю, мы должны работать по всем направлениям поддержки семьи.\\n',\n",
       " 'Но есть острейшая проблема, которая является прямой угрозой нашему демографическому будущему, - это низкие доходы значительной части наших граждан, семей.\\n',\n",
       " 'Причем, по разным оценкам, порядка 70 - 80 процентов семей с низкими доходами - это именно семьи с детьми, вы это хорошо знаете.',\n",
       " 'Часто, даже когда работает не один, а оба родителя, доход такой семьи очень скромный.\\n',\n",
       " 'Какие решения мы уже приняли?',\n",
       " 'С января текущего года семьи, чьи доходы не превышают двух прожиточных минимумов на человека, будут получать ежемесячные выплаты на первых и вторых детей.',\n",
       " 'Причем не до полутора лет, как прежде, а до трех.',\n",
       " 'Размер выплаты зависит от прожиточного минимума ребенка в конкретном регионе.',\n",
       " 'В среднем по стране это более одиннадцати тысяч рублей на одного ребенка в месяц.',\n",
       " 'Еще раз хочу сказать: в среднем это зависит от региона.\\n',\n",
       " 'Кроме того, при поддержке федерального бюджета начались выплаты на третьего или последующих детей в 75 субъектах Федерации - теперь включая все регионы Урала, Сибири и Дальнего Востока.\\n',\n",
       " 'Все это существенная поддержка.',\n",
       " 'Но вот я о чем подумал, и, думаю, вы это тоже понимаете: когда ребенку исполнится три года, установленные выплаты прекращаются, и, значит, семья сразу же может попасть в сложную ситуацию с доходами.',\n",
       " 'Это, собственно говоря, и происходит.',\n",
       " 'Этого нельзя допустить.',\n",
       " 'Тем более хорошо понимаю, что, пока дети не пошли в школу, маме зачастую трудно совмещать работу и уход за ребенком.\\n',\n",
       " 'Мы с вами хорошо знаем по своим детям, по своим внукам.',\n",
       " 'Ребятишки в этом возрасте, что называется, знакомятся с вирусами, часто болеют.',\n",
       " 'Маме не выйти на работу.',\n",
       " 'В этой связи предлагаю предусмотреть ежемесячные выплаты на детей в возрасте от трех до семи лет включительно.',\n",
       " 'Причем уже с 1 января 2020-го, текущего года.\\n',\n",
       " 'Кого затронет эта мера, и как, полагаю, она должна действовать.\\n',\n",
       " 'Выплаты будут получать семьи, чьи доходы не превышают одного прожиточного минимума на человека.',\n",
       " 'То есть действительно со сложной, очень сложной ситуацией.\\n',\n",
       " 'Чтобы получать такую выплату, достаточно будет подать заявление, а также указать свой легальный, официальный доход.',\n",
       " 'Обращаю внимание: нужно сделать эту процедуру максимально удобной и простой для граждан.',\n",
       " 'Чтобы они могли все оформить без очередей и преград.',\n",
       " 'Или дистанционно, через соответствующий государственный портал.\\n',\n",
       " 'В каждом субъекте Федерации, как я уже сказал, доходы могут разниться.',\n",
       " 'И выплаты на первом этапе составят у нас половину прожиточного минимума - 5,5 тысячи.',\n",
       " 'Но это не все.',\n",
       " 'Мы должны будем понять и оценить, как работает эта система, и если увидим, что какие-то семьи не доходят до прожиточного минимума, получая 5,5 тысячи, сделаем следующий шаг.',\n",
       " 'Будем выплачивать со следующего года уже целиком (в каждом регионе по-разному), будем выплачивать полный ПМ, это 11 с лишним тысяч.',\n",
       " 'Здесь цифры, повторяю, тоже будут разные, но примерно в среднем это будет 11 тысяч на ребенка в месяц.\\n',\n",
       " 'Для реализации предложенной меры потребуются серьезные ресурсы, корректировка федерального бюджета.',\n",
       " 'Прошу Правительство и парламентариев сделать это максимально оперативно.',\n",
       " 'Свою часть нормативной работы должны провести и регионы.\\n',\n",
       " 'Что еще мы должны сделать, и причем так же быстро.\\n',\n",
       " 'В Послании прошлого года говорил о необходимости расширять практику социального контракта.',\n",
       " 'Он призван стать своего рода индивидуальной программой повышения доходов и качества жизни для каждой нуждающейся семьи.',\n",
       " 'В рамках контракта государство будет предоставлять гражданам регулярные выплаты, помощь по переобучению и повышению квалификации, содействие в трудоустройстве или открытии небольшого собственного дела.\\n',\n",
       " 'Оказывая всестороннюю помощь гражданам с низкими доходами, конечно, общество и государство вправе ожидать и от них встречных шагов по решению собственных проблем, включая трудоустройство и ответственное выполнение своих обязанностей по отношению к детям и другим членам семьи.\\n',\n",
       " 'Регионы уже начали внедрять механизм социального контракта.',\n",
       " 'Но его эффективность пока крайне низкая.',\n",
       " 'И на снижение бедности, на повышение доходов семей влияние слабое.\\n',\n",
       " 'Поэтому, во-первых, прошу Правительство учесть опыт пилотных проектов и обновить сами принципы социального контракта.',\n",
       " 'И, во-вторых, расширить финансовую поддержку регионов, чтобы уже в 2021 году внедрить этот механизм во всех субъектах Федерации.\\n',\n",
       " 'Обращаю ваше внимание, уважаемые коллеги, в том числе руководители регионов: показателем результативности работы будет не количество заключенных социальных контрактов, а реальное снижение бедности.\\n',\n",
       " 'Уважаемые коллеги!\\n',\n",
       " 'В 2006 году, также обращаясь с Посланием к Федеральному Собранию, предложил тогда - помню, сказал так: теперь о главном, о любви, - и предложил тогда программу материнского капитала.',\n",
       " 'Ее главная цель, смысл - помочь семьям, принимающим решение о рождении второго ребенка.\\n',\n",
       " 'Сейчас эта программа рассчитана на период до 31 декабря 2021 года.',\n",
       " 'Знаю, что часто звучит волнующий для многих людей вопрос: что государство намерено делать после 31 декабря 2021 года?',\n",
       " 'Мы продлим эту программу минимум до 31 декабря 2026 года.',\n",
       " 'Такой шаг нужно сделать обязательно.',\n",
       " 'Но сегодня только этого уже недостаточно.\\n',\n",
       " 'Нам необходимо поддержать молодых людей, тех, кто начинает семейную жизнь и, уверен, мечтает о детях.',\n",
       " 'В этой связи хотел бы предложить новые, дополнительные решения по материнскому капиталу, которые также должны вступить в силу с 1 января 2020 года.\\n',\n",
       " 'Уже при рождении первенца семья получит право на материнский капитал в его сегодняшнем объеме.',\n",
       " 'После индексации с января 2020 года - это 466 617 рублей.',\n",
       " 'Именно столько до сих пор полагалось при рождении второго или последующего ребенка.',\n",
       " 'Такая поддержка даст возможность семье подготовиться к рождению второго ребенка.\\n',\n",
       " 'Но считаю, что в современных условиях и этого мало, с учетом тех демографических вызовов, с которыми сталкивается страна, недостаточно.',\n",
       " 'Можно и нужно сделать больше.',\n",
       " 'Предлагаю увеличивать материнский капитал еще на 150 тысяч рублей.',\n",
       " 'Право на эти дополнительные средства к материнскому капиталу семья получит при рождении уже второго ребенка.\\n',\n",
       " 'Таким образом, общий размер материнского капитала для семьи с двумя детьми составит 616 617 рублей.',\n",
       " 'И в дальнейшем он будет ежегодно индексироваться.\\n',\n",
       " 'При этом считаю, что если в семье сейчас есть ребенок, то после рождения второго материнский капитал должен предоставляться ей уже в новом, увеличенном размере.',\n",
       " 'А это, как уже сказал, 616 617 рублей.\\n',\n",
       " 'Добавлю, мы уже приняли решение, что при рождении третьего ребенка государство \"гасит\" за семью 450 тысяч рублей ее ипотечного кредита.',\n",
       " 'То есть в целом семья с тремя детьми сможет при помощи государства вложить в решение своей жилищной проблемы свыше одного миллиона рублей.',\n",
       " 'Для целого ряда регионов, городов, даже областных центров это почти половина стоимости квартиры или дома.\\n',\n",
       " 'Напомню также, что льготную ставку ипотеки - шесть процентов годовых - для семей с двумя и более детьми мы распространили на весь срок кредита.',\n",
       " 'В результате число тех, кто воспользовался такой мерой поддержки, возросло почти в десять раз сразу.\\n',\n",
       " 'А на Дальнем Востоке запущена социальная программа для молодых семей: ипотека по ставке два процента.',\n",
       " 'Прошу банки, и не только с госучастием, активнее включаться в ее реализацию.\\n',\n",
       " 'И еще один очень важный вопрос - уже сказал сегодня о новой выплате на детей в возрасте с трех до семи лет включительно.',\n",
       " 'Но и это не все, что мы можем и должны сделать.',\n",
       " 'Да, когда ребенок идет в школу, у родителей, особенно у мам, появляется больше возможности выйти на работу, получить дополнительный доход.',\n",
       " 'Однако и расходы семьи, чтобы собрать ребенка в школу, тоже возрастают, забот у семьи прибавляется, и на этом этапе ее также нужно поддержать.',\n",
       " 'В этой связи предлагаю обеспечить бесплатным горячим питанием всех учеников начальной школы с первого по четвертый класс.\\n',\n",
       " 'Не буду скрывать, у нас большие дискуссии шли на этот счет, некоторые коллеги в общем и целом не возражают не потому, что им детей не хочется поддержать, но говорят о том, что это не очень справедливо, что и люди с приличными доходами, и с маленькими доходами будут получать одинаковую поддержку от государства.',\n",
       " 'В этом, конечно, есть логика, это правда, но есть и логика тоже, характерная для нашего общества, - все должны себя чувствовать в равных условиях, не должны дети и родители, которых часто сегодняшнее положение унижает, чувствовать, что они даже ребенка прокормить не могут.\\n',\n",
       " 'Мне кажется, что для нашего общества это чрезвычайно важно.',\n",
       " 'Да, мне говорят: даже в советское время с его широкой социальной программой поддержки граждан не было такой меры поддержки.',\n",
       " 'Но и расслоения в обществе тогда такого не было.',\n",
       " 'Я думаю, что эта мера будет оправданной.\\n',\n",
       " 'Чтобы организовать бесплатное горячее и, подчеркну, здоровое питание, предлагаю направить средства из трех источников: федерального, регионального и местного.',\n",
       " 'Но вопрос не только в деньгах.',\n",
       " 'Нужно создать в школах и необходимую инфраструктуру, оборудовать столовые и буфеты, наладить систему снабжения, и, безусловно, качественными продуктами.',\n",
       " 'Обращаю внимание, что даже во время Советского Союза этого не делалось, как я уже сказал.',\n",
       " 'Это, конечно, потребует времени, но в тех регионах и школах, где есть техническая готовность, бесплатное горячее питание должно предоставляться уже с 1 сентября 2020 года.',\n",
       " 'Остальных коллег прошу форсировать эту работу.',\n",
       " 'Не позднее 1 сентября 2023 года младшие школьники во всех субъектах Федерации по всей стране должны быть обеспечены бесплатным качественным горячим питанием.\\n',\n",
       " 'Что хотел бы сказать в целом, уважаемые коллеги?',\n",
       " 'Смысл всех, хочу это подчеркнуть, всех принимаемых нами мер заключается в том, чтобы создать в России стройную, масштабную и, главное, эффективно работающую систему поддержки семей, чтобы доходы наших граждан, в первую очередь тех, кто поднимает на ноги детей, были достаточными для достойной жизни.\\n',\n",
       " 'Во-вторых, то, о чем говорил в начале Послания: шаги, которые мы предприняли в предыдущие годы в сфере демографического развития, уже дали результат.',\n",
       " 'Тогда они дали результат.',\n",
       " 'В России поэтому растет большое поколение.',\n",
       " 'Это ребята, которые сейчас ходят в детский сад, учатся в школах.',\n",
       " 'Очень важно, чтобы они восприняли подлинные ценности многодетной семьи, что семья - это любовь, счастье, радость материнства и отцовства, что семья - это крепкая связь нескольких поколений, где уважение к старшим и забота о детях всегда объединяют, дают чувство уверенности, защищенности, надежности.',\n",
       " 'Если для подрастающих поколений все это станет естественной нравственной нормой, неотъемлемой частью, оплотом их взрослой жизни, мы действительно сможем решить историческую задачу - гарантировать развитие России как большой и успешной страны.\\n',\n",
       " 'Уважаемые коллеги!\\n',\n",
       " 'Поддержка семьи, ее ценностей - это всегда обращение к будущему, к поколениям, которым предстоит жить в эпоху колоссальных технологических и общественных изменений, определять судьбу России в XXI веке.',\n",
       " 'И чтобы уже сейчас они могли участвовать в создании этого будущего и в полной мере раскрыли свой потенциал, мы должны сформировать для них все условия, и прежде всего речь идет о том, чтобы каждый ребенок, где бы он ни жил, мог получить хорошее образование.\\n',\n",
       " 'В середине наступающего десятилетия в России будет около 19 миллионов школьников, почти на 6 миллионов больше, чем в 2010 году.',\n",
       " 'Некоторые полагают, что повлиять на объективные процессы в демографии трудно, а потому выделять большие ресурсы на демографическое развитие нецелесообразно.',\n",
       " 'Однако на практике мы видим прямое доказательство обратного, а именно: меры поддержки семей работают, их результат превосходит иногда даже самые смелые наши ожидания.',\n",
       " 'Замечательно, что в наших школах вновь так много детей.',\n",
       " 'Вместе с тем такая ситуация не должна сказываться на комфорте и качестве их обучения.\\n',\n",
       " 'Прошу Правительство совместно с регионами с учетом демографического и других факторов определить, сколько необходимо дополнительных школьных мест, внести необходимые изменения в национальный проект \"Образование\".',\n",
       " 'Здесь нужно искать гибкие решения: не только строить школы, но и эффективно использовать всю образовательную да и другую инфраструктуру для этих целей, возможности современных технологий в интересах обучения детей.\\n',\n",
       " 'Сейчас практически все школы России подключены к интернету.',\n",
       " 'В 2021 году они должны получить уже не просто доступ в сеть, а высокоскоростной интернет, что позволит в полном объеме приступить к цифровой трансформации отечественной школы, обеспечить доступ педагогов и учеников к передовым образовательным программам, внедрять индивидуальные подходы к обучению, направленные на раскрытие способностей каждого ребенка.\\n',\n",
       " 'У нас динамично развивается сеть детских технических, инженерных кружков и центров.',\n",
       " 'Такими же современными должны стать условия для занятий музыкой, живописью, другими видами творчества.\\n',\n",
       " 'В рамках национального проекта \"Культура\" выделяется более 8 миллиардов рублей на оборудование и музыкальные инструменты для детских школ искусств.',\n",
       " 'Но проблема гораздо шире.',\n",
       " 'Сейчас более тысячи помещений, где размещены такие учебные заведения, обветшали или просто непригодны для занятий.',\n",
       " 'Прошу Правительство помочь регионам привести их в порядок.',\n",
       " 'И регионы прошу не забывать, что это ваша обязанность.\\n',\n",
       " 'Далее: современная школа - это современный учитель, его высокий статус и общественный престиж.',\n",
       " 'К середине наступающего десятилетия национальная система профессионального роста должна охватить не менее половины педагогов страны.',\n",
       " 'В перспективе не только в сфере общего, дополнительного профессионального образования.\\n',\n",
       " 'Ближе всего к ученикам - их классные руководители.',\n",
       " 'Такая постоянная каждодневная работа, связанная с обучением, воспитанием детей, - это огромная ответственность, и она, конечно, требует особой подготовки наставников и их особой поддержки.',\n",
       " 'В этой связи считаю необходимым уже с 1 сентября ввести специальную доплату классным руководителям в размере не менее пяти тысяч рублей за счет средств федерального бюджета.\\n',\n",
       " 'Здесь тоже много споров: это же обязанность регионов, здесь присутствующие в зале это хорошо понимают.',\n",
       " 'Но все-таки, что такое классный руководитель?',\n",
       " 'Это воспитатель, а это все-таки федеральная функция.\\n',\n",
       " 'Но, само собой разумеется, я хочу обратить на это внимание: все действующие региональные выплаты за классное руководство должны быть сохранены, уважаемые коллеги, обращаю на это ваше внимание.',\n",
       " 'И обязательно посмотрю, что происходит на практике, в жизни.\\n',\n",
       " 'Не раз заострял внимание на том, что все параметры по уровню зарплат учителей, врачей, бюджетников в целом, заданные в майских указах еще 2012 года, должны строго соблюдаться.',\n",
       " 'То, что постоянно обращаюсь к этой теме, не случайно.',\n",
       " 'Если не держать вопрос на контроле, то, и многие сидящие в зале это знают, появляется соблазн \"съехать\" с темы.',\n",
       " 'Не надо этого делать.',\n",
       " 'Подчеркну, речь идет о людях, специалистах, которые работают в важнейших для общества и страны сферах, их труд должен оплачиваться достойно и справедливо.\\n',\n",
       " 'В ближайшие годы число выпускников школ будет расти.',\n",
       " 'С учетом этого нам важно сохранить равную, справедливую доступность бесплатного очного высшего образования.',\n",
       " 'В этой связи предлагаю ежегодно увеличивать количество бюджетных мест в вузах, причем (и то, что я скажу дальше, чрезвычайно важно) в приоритетном порядке отдавать эти места именно в региональные вузы, именно в те территории, где сегодня не хватает врачей, педагогов, инженеров.\\n',\n",
       " 'Естественно, необходимо не просто увеличивать цифры приема, а серьезно, с участием бизнеса, работодателей заняться развитием университетов и вузов в регионах, включая укрепление их учебной, исследовательской и социальной инфраструктуры, системы постоянной подготовки и повышения квалификации преподавателей региональных вузов, чтобы студенты могли получать современные знания, начать успешную карьеру на своей малой родине.\\n',\n",
       " 'Рынок труда сегодня динамично меняется, постоянно появляются новые профессии, усложняются требования к существующим, и высшая школа должна гибко и быстро реагировать на эти запросы.',\n",
       " 'Считаю, что нужно дать возможность студентам после второго курса выбирать новое направление или программу обучения, включая смежные профессии.',\n",
       " 'Это не так просто наладить, но нужно это сделать.',\n",
       " 'Чтобы талантливые и достойные люди играли значимую, лидерскую роль в национальном развитии, мы запустили проект \"Россия - страна возможностей\".',\n",
       " 'Уже более 3,5 миллиона человек стали участниками его конкурсов и олимпиад.',\n",
       " 'И эта система будет постоянно развиваться дальше.\\n',\n",
       " 'Уважаемые коллеги!',\n",
       " 'В прошлом году впервые в истории ожидаемая продолжительность жизни в России превысила 73 года - на восемь лет больше, чем в 2000 году.',\n",
       " 'Это результат социальных, экономических изменений в стране, развития массового спорта, продвижения ценностей здорового образа жизни.',\n",
       " 'И конечно, значимый вклад здесь принадлежит всей системе здравоохранения, в особенности программам специализированной, в том числе высокотехнологичной помощи, а также охране материнства и детства, материнского и детского здоровья.\\n',\n",
       " 'Уровень младенческой смертности в России достиг исторического минимума.',\n",
       " 'Этот показатель у нас лучше, чем даже в ряде европейских стран.',\n",
       " 'Прекрасно осведомлен о том, что общество во многих развитых государствах весьма критически оценивает состояние своих национальных систем здравоохранения, но и вы тоже многие об этом знаете.',\n",
       " 'Вообще почти в каждой стране, не почти, в каждой стране граждане критикуют свою систему здравоохранения, как бы она ни смотрелась отсюда, от нас, хорошо выстроенной.\\n',\n",
       " 'Тем не менее то, что нам удалось сделать в сфере здравоохранения, показывает, что если мы ставим перед собой определенные цели, то способны добиваться результатов.',\n",
       " 'Однако, повторю, о здравоохранении люди судят, конечно же, не по цифрам и не по показателям.',\n",
       " 'Человека, который вынужден ехать за десятки километров в поликлинику, тратить целый день в очереди или неделями ждать приема у узкого специалиста, мало интересует, насколько выросла средняя продолжительность жизнь в стране.',\n",
       " 'Он думает о своей жизни, это понятно, о своем здоровье, о том, как безо всяких препятствий получить качественную и своевременную медицинскую помощь.',\n",
       " 'Поэтому сейчас нам нужно сконцентрировать усилия на первичном звене здравоохранения, с которым соприкасается каждый человек и каждая семья.',\n",
       " 'Именно здесь у нас больше всего сложных, чувствительных для людей проблем.\\n',\n",
       " 'В этом году мы должны в полном объеме, как и предусмотрено в профильном национальном проекте, завершить развертывание сети фельдшерско-акушерских пунктов.',\n",
       " 'Но это не значит, что все проблемы с ФАПами решены.',\n",
       " 'Хочу подчеркнуть, смысл их работы не в том, чтобы выписывать справки, направления и сходу спроваживать людей в райцентры.',\n",
       " 'У специалистов на местах должна быть возможность оказывать реальную помощь людям, использовать современное оборудование и скоростной интернет.',\n",
       " 'Я прошу Общероссийский народный фронт взять под контроль ход оснащения, строительства и ремонта ФАПов.\\n',\n",
       " 'Также с 1 июля будет запущена программа модернизации первичного звена здравоохранения.',\n",
       " 'Предстоит отремонтировать и оборудовать новой техникой поликлиники, районные больницы, станции скорой помощи во всех регионах страны.',\n",
       " 'На решение этих задач мы дополнительно выделили 550 миллиардов рублей, более 90 процентов - это федеральные ресурсы.\\n',\n",
       " 'В свою очередь прошу субъекты Федерации найти резервы и вплотную заняться решением жилищных проблем врачей и фельдшеров, особенно в селах, поселках, малых городах, использовать для этого все механизмы, в том числе служебное жилье, поддержку индивидуального жилищного строительства.\\n',\n",
       " 'Вопрос подготовки, привлечения кадров - ключевой для здравоохранения.',\n",
       " 'К 2024 году все его уровни должны быть обеспечены специалистами, и в приоритетном порядке первичное звено.',\n",
       " 'В этой связи предлагаю в новом учебном году существенно изменить порядок приема в вузы по медицинским специальностям.',\n",
       " 'По специальности лечебное дело - 70 процентов бюджетных мест станут целевыми, по специальности педиатрия - 75 процентов.',\n",
       " 'Квоты на целевой прием будут формироваться по заявкам регионов Российской Федерации.',\n",
       " 'Но они в свою очередь должны предоставить гарантию трудоустройства будущим выпускникам, чтобы специалисты приходили на работу именно туда, где их помощи ждут люди.\\n',\n",
       " 'Что касается ординатуры, предлагаю по самым дефицитным направлениям установить почти стопроцентное целевое обучение.',\n",
       " 'Причем при поступлении преимущество будут иметь врачи со стажем работы в первичном звене, особенно на селе.',\n",
       " 'Естественно, что целевое обучение надо предусмотреть и для федеральных медицинских центров.\\n',\n",
       " 'И наконец, как мы и договаривались, с этого года начнет поэтапно внедряться новая система оплаты труда в здравоохранении, основанная на прозрачных, справедливых и понятных правилах, с установлением фиксированной доли окладов в заработной плате и единым для всей страны перечнем компенсационных выплат и стимулирующих надбавок.\\n',\n",
       " 'Понимаю, что реализация всех заявленных целей требует значительных ресурсов.',\n",
       " 'Если вы сейчас вернетесь к тому, с чего я начал, по каждому пункту это большие деньги.',\n",
       " 'В этой связи прошу Правительство еще раз вернуться к определению приоритетов нашего развития при сохранении бюджетной устойчивости.',\n",
       " 'Это наше преимущество, которого мы достигли за последние годы, и ни в коем случае его нельзя потерять.\\n',\n",
       " 'Знаю, что в прошлом году в ряде регионов были перебои с поставками лекарств, потому что закупки оказались фактически сорванными, и некоторые чиновники позволяли себе рассуждать так, будто речь шла о закупке канцтоваров: не беда, объявим новые конкурсы.',\n",
       " 'А люди-то оставались без крайне важных, подчас жизненно необходимых лекарств.',\n",
       " 'Обращаю внимание, такие ситуации не должны больше никогда повторяться.\\n',\n",
       " 'В текущем году должен заработать единый сквозной регистр получателей препаратов, которые предоставляются человеку бесплатно или с большой скидкой по федеральной или региональной льготе, чтобы путаницы здесь больше не было.\\n',\n",
       " 'Также уже приняты законодательные решения, которые позволят официально и централизованно ввозить в Россию отдельные специальные препараты, которые пока не имеют официального разрешения.',\n",
       " 'Я прошу Правительство в кратчайшие сроки так отладить эту работу, чтобы люди, особенно родители больных детей, больше не оказывались в безвыходной ситуации, когда нужные лекарства невозможно легально достать.\\n',\n",
       " 'Существенно изменится и контроль качества лекарственных препаратов.',\n",
       " 'Он будет усилен не только на фармпредприятиях, но и на всех этапах обращения лекарств, в том числе в аптечных сетях.\\n',\n",
       " 'Уважаемые коллеги!\\n',\n",
       " 'В последние годы мы сосредоточили усилия на укреплении макроэкономической устойчивости, и я только что об этом упоминал.',\n",
       " 'Федеральный бюджет вновь стал профицитным.',\n",
       " 'Наши государственные резервы уверенно покрывают совокупный внешний долг.',\n",
       " 'Говорю не о каких-то абстрактных, отвлеченных показателях, они прямо, хочу это подчеркнуть, прямо связаны с жизнью каждого человека в нашей стране, с выполнением социальных обязательств перед людьми.',\n",
       " 'Мы видим, с какими проблемами, даже потрясениями сталкиваются граждане тех государств, где подобной \"подушки безопасности\" не было, где такой фундамент оказался зыбким.\\n',\n",
       " 'Результатом последовательной работы Правительства и Банка России стала и ценовая стабилизация.',\n",
       " 'По итогам прошлого года инфляция составила три процента, это ниже установленного ориентира в четыре процента.',\n",
       " 'Да, на отдельные товары и услуги цены выросли чуть больше, но в общем, повторю, инфляция находится на предсказуемо низком уровне.',\n",
       " 'Ситуация принципиально отличается от той, что была еще пять или десять тем более лет назад, когда двузначная инфляция фактически была налогом на всех граждан страны, особенно тяжелым для тех, кто получал фиксированные доходы, - пенсионеров, работников бюджетной сферы.\\n',\n",
       " 'Сейчас, опираясь на устойчивый макроэкономический фундамент, нужно создать условия для существенного повышения реальных доходов граждан.',\n",
       " 'Вновь подчеркну, это важнейшая задача Правительства и Центрального банка.',\n",
       " 'Для ее решения необходимы структурные изменения национальной экономики, увеличение ее эффективности.',\n",
       " 'В 2021 году темпы роста ВВП России должны быть выше мировых.\\n',\n",
       " 'Чтобы получить такую динамику, нужно запустить новый инвестиционный цикл, серьезно нарастить вложения в создание и обновление рабочих мест, инфраструктуру, в развитие промышленности, сельского хозяйства, сферы услуг.',\n",
       " 'Начиная с этого года ежегодный прирост инвестиций должен составлять не менее пяти процентов, их долю в ВВП страны нужно увеличить с текущего 21 процента до 25 процентов в 2024 году.\\n',\n",
       " 'Что необходимо сделать для стимулирования инвестиций?\\n',\n",
       " 'Первое.',\n",
       " 'Мы договорились в течение шести лет не менять налоговые условия для бизнеса, таким образом обеспечить более широкий горизонт для планирования инвестиций.',\n",
       " 'Я обращаюсь к депутатам, Правительству: нужно ускорить принятие пакета законопроектов о защите и поощрении капиталовложений.',\n",
       " 'Напомню, что налоговые условия для крупных, значимых проектов должны быть неизменны на срок до 20 лет, а требования и нормативы при строительстве производственных объектов должны быть зафиксированы на три года.',\n",
       " 'Эти гарантии инвесторам должны стать нормой закона.\\n',\n",
       " 'Конечно, поддержку должны получить не только крупные проекты, но и деловые инициативы малого и среднего бизнеса.',\n",
       " 'Сегодня у субъектов Федерации есть право предоставлять так называемый инвестиционный налоговый вычет, трехлетнюю льготу по налогу на прибыль, но они редко используют эту возможность.',\n",
       " 'Понятно почему.',\n",
       " 'Потому что региональные бюджеты теряют поступления.',\n",
       " 'В этой связи предлагаю за счет федеральных средств компенсировать регионам две трети их выпадающих доходов от применения инвестиционного налогового вычета.\\n',\n",
       " 'Второе.',\n",
       " 'В 2020 году нужно, наконец, завершить реформу контрольно-надзорной деятельности, тем самым сделать работу бизнеса удобнее и проще.\\n',\n",
       " 'Третье.',\n",
       " 'Уже внес в Думу и прошу поддержать поправки, которые убирают размытые нормы уголовного законодательства в части так называемых экономических составов.',\n",
       " 'Так, предприниматели неоднократно обращали внимание на 210-ю статью УК, по которой любая компания, чьи руководители нарушили закон, могла квалифицироваться как организованное преступное сообщество, а значит, практически все сотрудники подпадали под статью.',\n",
       " 'Устанавливались при этом более строгие меры пресечения и наказания.',\n",
       " 'Правоохранительные органы впредь будут обязаны доказать, что организация, компания изначально умышленно создавалась под незаконные цели.\\n',\n",
       " 'Четвертое.',\n",
       " 'По оценкам, уже летом часть Фонда национального благосостояния, размещенная в валюте, преодолеет отметку в 7 процентов ВВП.',\n",
       " 'Мы сформировали такие объемы резервов, которые гарантируют нам устойчивость и безопасность, и значит, можем вкладывать дополнительные доходы в развитие, в национальную экономику.\\n',\n",
       " 'Приоритетом должны стать окупаемые проекты, которые снимают инфраструктурные ограничения для территорий.',\n",
       " 'Это в том числе автомобильные обходы крупных городов, магистрали между областными центрами, выходы на федеральные автотрассы.',\n",
       " 'Такие проекты обязательно потянут за собой рост малого бизнеса, туризма, социальной активности в регионах и на местах.\\n',\n",
       " 'Пятое.',\n",
       " 'Для уверенного роста инвестиций экономике нужны так называемые длинные деньги.',\n",
       " 'Это мы все хорошо знаем.',\n",
       " 'Это прямая ответственность Банка России.',\n",
       " 'Отмечу его последовательную линию на повышение доступности кредита для реального сектора экономики.\\n',\n",
       " 'Конечно, бизнес, компании, особенно крупные, обязаны помнить о своей социальной и экологической ответственности.',\n",
       " 'Хочу поблагодарить парламентариев за принципиальность при работе над законом о квотировании вредных выбросов в атмосферу.\\n',\n",
       " 'От планов нужно, конечно, быстрее переходить к действиям.',\n",
       " 'Нам предстоит отработать и внедрить систему мониторинга качества воздуха, в дальнейшем распространить такой контроль на всю страну, причем не только за состоянием воздуха, но и воды, и почвы, то есть сформировать полноценную систему экологического мониторинга.\\n',\n",
       " 'Далее.',\n",
       " 'До конца года не менее 80 из 300 крупнейших предприятий должны перейти на так называемые наилучшие доступные технологии, получить комплексные экологические разрешения, что означает последовательное сокращение вредных выбросов.',\n",
       " 'К настоящему времени выдано 16 таких разрешений, но в целом работа идет по плану.',\n",
       " 'Ни в коем случае нельзя допускать здесь сбоев.',\n",
       " 'Нужно кардинально снизить объем отходов, поступающих на полигоны, внедрять раздельный сбор мусора, в целом переходить на экономику замкнутого цикла и уже с 2021 года начать применение механизма так называемой расширенной ответственности производителей, когда производители и импортеры товаров и упаковок несут расходы по их утилизации.',\n",
       " 'Если сказать просто: загрязнитель платит.\\n',\n",
       " 'Уважаемые коллеги!\\n',\n",
       " 'Хочу подчеркнуть, Россия готова поддержать совместные исследования отечественных и зарубежных ученых по проблемам экологии, изменения климата, загрязнения окружающей среды и Мирового океана.',\n",
       " 'Это общие для всех вызовы глобального развития.\\n',\n",
       " 'Сегодня скорость технологических изменений в мире многократно возрастает, и мы должны создать собственные технологии и стандарты по тем направлениям, которые определяют будущее.',\n",
       " 'Речь прежде всего об искусственном интеллекте, генетике, новых материалах, источниках энергии, цифровых технологиях.',\n",
       " 'Убежден, мы способны достичь здесь такого же прорыва, как и в оборонной сфере.',\n",
       " 'Об этом я еще два слова скажу позже.\\n',\n",
       " 'Для решения сложных технологических задач продолжим развитие исследовательской инфраструктуры, включая объекты класса мегасайенс.',\n",
       " 'Уверен, возможность работать на уникальном оборудовании, браться за самые амбициозные задачи - это стимул для талантливых молодых людей идти в науку.',\n",
       " 'Так уже и происходит, уважаемые коллеги.',\n",
       " 'По оценкам, к середине десятилетия каждый второй ученый России будет моложе 40 лет.\\n',\n",
       " 'Исследователям, инженерам, предпринимателям мы должны обеспечить свободу для работы, научного, инновационного поиска.',\n",
       " 'Я прошу Правительство и депутатов Государственной Думы ускорить рассмотрение так называемого технологического законодательного пакета.',\n",
       " 'Уже в этом году нужно запустить гибкий механизм экспериментальных правовых режимов для разработки и внедрения в России новых технологий, наладить современное регулирование оборота больших данных.\\n',\n",
       " 'Далее: на основе лучших мировых стандартов следует настроить механизмы государственной поддержки инструментов прямого и венчурного финансирования.',\n",
       " 'У технологического предпринимателя должно быть право на риск, чтобы неудачная реализация идеи автоматически не означала нецелевое использование средств с последующим возможным уголовным преследованием.',\n",
       " 'Словом, нужно создать такие правовые, финансовые условия, чтобы как можно больше стартапов, новаторских команд могли стать сильными, успешными инновационными компаниями.\\n',\n",
       " 'Надо поддерживать высокотехнологичный экспорт и, безусловно, расширять спрос на инновации внутри самой страны.',\n",
       " 'В этой связи считаю правильным ускорить цифровую трансформацию реального сектора экономики.',\n",
       " 'При этом установить требование, чтобы национальные проекты осуществлялись главным образом на основе программных продуктов отечественного производства.\\n',\n",
       " 'Мы уже создали крупнейшую инфраструктуру, для примера, цифрового телевидения, по своим техническим параметрам - одну из самых современных в мире.',\n",
       " 'Охват цифровым телевидением в России сейчас выше, чем, например, во Франции, Австрии или Швейцарии.\\n',\n",
       " 'Повседневной жизненной необходимостью для людей стал сегодня и интернет.',\n",
       " 'Причем Россия - одна из немногих стран в мире, где есть свои социальные сети, мессенджеры, почтовые и поисковые системы, другие национальные ресурсы.\\n',\n",
       " 'В этой связи предлагаю подготовить и реализовать проект \"Доступный интернет\", по всей территории страны обеспечить бесплатный доступ к социально значимым отечественным интернет-сервисам.',\n",
       " 'Повторю, в этом случае людям не придется платить за саму услугу связи, за интернет-трафик.\\n',\n",
       " 'Уважаемые коллеги!',\n",
       " 'Высокая доступность интернета должна стать конкурентным преимуществом России и наших граждан, создать широкое пространство для образования и творчества, для общения, для реализации социальных и культурных проектов.',\n",
       " 'И конечно, это новые возможности для участия людей в жизни страны.',\n",
       " 'Для нас значима каждая созидательная инициатива граждан, общественных объединений, некоммерческих организаций, их стремление внести свой вклад в решение задач национального развития.\\n',\n",
       " 'Очень важно, что действительно массовым становится волонтерское движение, которое объединяет школьников, студентов, да и вообще людей разных поколений и возрастов.',\n",
       " 'Воплощением традиций взаимопомощи, уважения к старшим поколениям и к нашей истории стал проект \"Волонтеры Победы\".',\n",
       " 'В этом году мы будем отмечать 75-летие Победы в Великой Отечественной войне.',\n",
       " 'Для России 9 Мая - самый великий и святой праздник.',\n",
       " 'Мы гордимся поколением победителей, чтим их подвиг, и наша память не только дань огромного уважения героическому прошлому - она служит нашему будущему, вдохновляет нас, укрепляет наше единство.\\n',\n",
       " 'Мы обязаны защитить правду о Победе, иначе что скажем нашим детям, если ложь, как зараза, будет расползаться по всему миру?',\n",
       " 'Наглому вранью, попыткам переиначить историю мы должны противопоставить факты.',\n",
       " 'В России будет создан крупнейший и самый полный комплекс архивных документов, кино- и фотоматериалов по Второй мировой войне, доступных и для наших граждан, и для всего мира.',\n",
       " 'Такая работа - наш долг как страны-победительницы и ответственность перед будущими поколениями.\\n',\n",
       " 'Уважаемые коллеги!',\n",
       " 'Мы видим, как непредсказуемо, неуправляемо развиваются события в мире, что происходит на Ближнем Востоке, в Северной Африке буквально в последние недели, да и в последние дни, как региональные конфликты могут стремительно перерастать в угрозы для всего международного сообщества.\\n',\n",
       " 'Убежден, серьезный и прямой разговор об основных принципах стабильного миропорядка, о тех острейших проблемах, с которыми сталкивается человечество, безусловно, назрел.',\n",
       " 'Надо проявить политическую волю, мудрость, мужество.',\n",
       " 'Время требует осознания нашей общей ответственности и реальных действий.\\n',\n",
       " 'Подать пример должны страны - основательницы Организации Объединенных Наций.',\n",
       " 'Именно пять ядерных держав несут особую ответственность за сохранение и устойчивое развитие человечества.',\n",
       " 'Пять наций должны прежде всего начать с мер по устранению предпосылок для глобальной войны, выработать обновленные подходы к обеспечению стабильности на планете, которые бы в полной мере учитывали политические, экономические, военные аспекты современных международных отношений.\\n',\n",
       " 'Россия открыта для укрепления сотрудничества со всеми заинтересованными партнерами, мы никому не угрожаем и не стремимся навязывать свою волю.',\n",
       " 'При этом всех могу заверить: наши шаги по укреплению национальной безопасности были сделаны своевременно и в достаточном объеме.',\n",
       " 'Впервые, хочу это подчеркнуть, впервые за всю историю существования ракетно-ядерного оружия, включая и советский период, и новейшее время, мы никого не догоняем, а наоборот, другим ведущим государствам мира еще только предстоит создать оружие, которым уже обладает Россия.\\n',\n",
       " 'Обороноспособность страны обеспечена на десятилетия вперед, хотя и здесь нам нельзя почивать на лаврах и расслабляться, а нужно идти вперед, внимательно наблюдая и анализируя то, что происходит в этой сфере в мире, разрабатывать боевые комплексы и системы будущих поколений.',\n",
       " 'Сегодня мы так и делаем.',\n",
       " 'Надежная безопасность создает основу для прогрессивного, мирного развития России, позволяет нам сделать гораздо больше для решения самых насущных внутренних вопросов, сосредоточиться на экономическом, социальном росте всех наших регионов в интересах людей, потому что величие России неотделимо от достойной жизни каждого гражданина.',\n",
       " 'В этой гармонии сильной державы и благополучия людей вижу основу нашего будущего.\\n',\n",
       " 'Движение к этой цели, уважаемые коллеги, возможно только при активном участии общества, наших граждан и, конечно, при напряженной результативной работе всех ветвей и уровней власти, потенциал которых требует дальнейшего развития.\\n',\n",
       " 'В этой связи хотел бы остановиться на вопросах государственного устройства и внутренней политики, которые определяет Основной Закон нашей страны - Конституция Российской Федерации.',\n",
       " 'Мне эти вопросы задают постоянно, в том числе на последней годовой пресс-конференции.\\n',\n",
       " 'Разумеется, нельзя не согласиться с теми, кто говорит, что Конституция была принята уже более четверти века назад в условиях тяжелого внутриполитического кризиса, и положение дел с тех пор кардинально изменилось.',\n",
       " 'Слава богу, у нас теперь нет ни вооруженного противостояния в столице, ни очага международного терроризма на Северном Кавказе.\\n',\n",
       " 'Несмотря на ряд нерешенных, достаточно острых проблем, о которых мы говорили сегодня, стабилизировалась тем не менее ситуация в экономике и социальной сфере.',\n",
       " 'И сегодня ряд политических общественных объединений ставят вопрос о принятии новой Конституции.\\n',\n",
       " 'Сразу же хочу ответить: считаю, что такой необходимости нет.',\n",
       " 'Потенциал Конституции 1993 года далеко не исчерпан, а фундаментальные основы конституционного строя, права и свободы человека, надеюсь, еще многие десятилетия будут оставаться прочной ценностной базой для российского общества.\\n',\n",
       " 'Вместе с тем высказывания на тему изменения Конституции уже прозвучали.',\n",
       " 'И полагаю возможным обозначить здесь и свою позицию, вынести на обсуждение ряд конституционных поправок, которые считаю вполне обоснованными и важными для дальнейшего развития России как правового социального государства, в котором высшей ценностью являются свободы и права граждан, достоинство человека, его благополучие.\\n',\n",
       " 'Первое: Россия может быть и оставаться Россией только как суверенное государство.',\n",
       " 'Суверенитет нашего народа должен быть безусловным.',\n",
       " 'Мы многое сделали для этого: восстановили единство страны, покончили с ситуацией, когда некоторые государственные властные функции были узурпированы фактически олигархическими кланами, Россия вернулась в международную политику как страна, с мнением которой нельзя не считаться.\\n',\n",
       " 'Мы создали мощные резервы, что кратно повышает устойчивость нашего государства, его способность защитить социальные права граждан, а национальную экономику - от любых попыток внешнего давления.',\n",
       " 'Действительно, считаю, что пришло время внести в Основной Закон страны некоторые изменения, которые прямо гарантируют приоритет Конституции России в нашем правовом пространстве.\\n',\n",
       " 'Что это означает?',\n",
       " 'Это означает буквально следующее: требования международного законодательства и договоров, а также решения международных органов могут действовать на территории России только в той части, в которой они не влекут за собой ограничения прав и свобод человека и гражданина, не противоречат нашей Конституции.\\n',\n",
       " 'Второе: предлагаю на конституционном уровне закрепить обязательные требования к лицам, которые занимают должности, критически важные для обеспечения безопасности и суверенитета страны.',\n",
       " 'А именно: главы субъектов Федерации, члены Совета Федерации, депутаты Государственной Думы, Председатель Правительства, его заместители, федеральные министры, руководители иных федеральных органов, а также судьи не могут иметь иностранное гражданство, вид на жительство либо иной документ, который позволяет постоянно проживать на территории другого государства.\\n',\n",
       " 'Смысл, миссия государственной службы именно в служении, и человек, который выбирает этот путь, должен прежде всего для себя решить, что он связывает свою жизнь с Россией, с нашим народом, и никак иначе, без всяких полутонов и допущений.\\n',\n",
       " 'Еще более жесткие требования должны предъявляться к лицам, претендующим на должность Президента Российской Федерации.',\n",
       " 'Предлагаю здесь закрепить требование о постоянном проживании на территории России не менее 25 лет, а также отсутствии иностранного гражданства или вида на жительство в другом государстве, причем не только на момент участия в выборах, но и когда бы то ни было ранее.\\n',\n",
       " 'Знаю также, что в нашем обществе обсуждается конституционное положение о том, что одно и то же лицо не должно занимать должность Президента Российской Федерации более двух сроков подряд.',\n",
       " 'Не считаю, что этот вопрос принципиальный, но согласен с этим.\\n',\n",
       " 'Уже говорил, что наша задача - обеспечить высокие стандарты жизни, равные возможности для каждого человека, причем на всей территории страны.',\n",
       " 'Именно на достижение такой цели направлены национальные проекты, все наши планы развития.\\n',\n",
       " 'Вместе с тем, вы знаете, к каким проблемам в образовании, здравоохранении, да и в других сферах приводит разрыв (я уже много раз об этом говорил) между государственным и муниципальным уровнями власти.',\n",
       " 'И такая разделенность, запутанность полномочий прежде всего отрицательно сказывается на людях.\\n',\n",
       " 'Предусмотренные законодательством общие для всех граждан права, возможности и гарантии в разных регионах и муниципалитетах обеспечиваются по-разному.',\n",
       " 'Это несправедливо по отношению к человеку и несет прямую угрозу нашему обществу и целостности страны.\\n',\n",
       " 'Считаю необходимым закрепить в Конституции принципы единой системы публичной власти, выстроить эффективное взаимодействие между государственными и муниципальными органами.',\n",
       " 'При этом полномочия и реальные возможности местного самоуправления - самого близкого к людям уровня власти - могут и должны быть расширены и укреплены.\\n',\n",
       " 'И конечно, в любом случае, при любой ситуации и на всей территории страны должны исполняться социальные обязательства государства.',\n",
       " 'Поэтому считаю необходимым прямо закрепить в Конституции норму о том, что минимальный размер оплаты труда в России не может быть ниже размера прожиточного минимума трудоспособного населения, у нас это в законе есть, надо закрепить это в Конституции, а также закрепить в Основном Законе принципы достойного пенсионного обеспечения, имею в виду здесь и регулярную индексацию пенсий.\\n',\n",
       " 'Четвертое.',\n",
       " 'Россия - огромная страна, и у каждого субъекта Федерации есть свои особенности, проблемы, свой опыт.',\n",
       " 'Все это, безусловно, надо учитывать.',\n",
       " 'Считаю необходимым кардинально повысить роль губернаторов в выработке и принятии решений на федеральном уровне.',\n",
       " 'Вы знаете, в 2000 году по моей инициативе был возрожден Государственный совет, в работе которого участвуют главы всех регионов.',\n",
       " 'За прошедшее время Госсовет показал свою высокую эффективность, его рабочие группы обеспечивают профессиональное, всестороннее и качественное рассмотрение наиболее значимых для граждан и страны вопросов.',\n",
       " 'Считаю целесообразным закрепить в Конституции России соответствующий статус и роль Государственного совета.\\n',\n",
       " 'Пятое: российское общество становится более зрелым, ответственным, требовательным.',\n",
       " 'Основные политические силы страны, несмотря на всю разницу подходов к решению стоящих перед нами задач, выступают с патриотических позиций, отражают интересы своих сторонников и избирателей.\\n',\n",
       " 'При этом практически все фракции, представленные в Государственной Думе, - а с их лидерами, вы знаете, мы встречаемся регулярно, - полагают, что Федеральное Собрание готово взять на себя большую ответственность за формирование Правительства.',\n",
       " '(Аплодисменты.)',\n",
       " 'Это ожидаемые аплодисменты, но я думаю, что сейчас у вас будет возможность еще раз поаплодировать, дослушайте, что я хочу сказать.\\n',\n",
       " 'А если взять большую ответственность за формирование Правительства, это значит, взять на себя и большую ответственность за ту политику, которую это Правительство проводит.',\n",
       " 'Я согласен с такой постановкой вопроса, согласен полностью.\\n',\n",
       " 'Как обстоит дело сейчас?',\n",
       " 'В соответствии со статьями 111 и 112 Конституции Российской Федерации Президент лишь получает согласие Государственной Думы на назначение Председателя Правительства России, а затем уже сам назначает и главу кабинета, и его заместителей, и всех министров.',\n",
       " 'Предлагаю изменить этот порядок и доверить Государственной Думе не просто согласование, а утверждение кандидатуры Председателя Правительства Российской Федерации, а затем по его представлению - по представлению Председателя Правительства - всех вице-премьеров и федеральных министров.',\n",
       " 'При этом Президент будет обязан назначить их на должность, то есть будет не вправе отклонить утвержденные парламентом кандидатуры соответствующих должностных лиц.',\n",
       " '(Аплодисменты.)\\n',\n",
       " 'Все это уже само по себе очень серьезные изменения в политической системе.',\n",
       " 'Однако повторю, что с учетом зрелости наших основных политических, партийных объединений, авторитета гражданского общества такие предложения считаю оправданными.',\n",
       " 'Это повысит роль и значение парламента страны, роль и значение Государственной Думы, парламентских партий, самостоятельность и ответственность Председателя Правительства и всех членов кабинета, сделает более эффективным, содержательным взаимодействие между представительной и исполнительной ветвями власти.\\n',\n",
       " 'При этом, уважаемые коллеги, хочу подчеркнуть следующее, при этом убежден, что наша страна с ее огромной территорией, сложным национально-территориальным устройством, многообразием культурно-исторических традиций не может нормально развиваться, я скажу больше, просто существовать стабильно в форме парламентской республики.',\n",
       " 'Россия должна оставаться сильной президентской республикой.',\n",
       " 'Поэтому за президентом, безусловно, должно сохраняться право определять задачи и приоритеты деятельности Правительства, как и право отстранять от должности Председателя Правительства, его замов и федеральных министров в случае ненадлежащего исполнения обязанностей или в связи с утратой доверия.',\n",
       " 'Также за президентом должно оставаться прямое руководство Вооруженными Силами и всей правоохранительной системой.',\n",
       " 'Но и в этом случае считаю необходимым сделать еще один шаг для обеспечения большего баланса между ветвями власти.\\n',\n",
       " 'В этой связи шестое: предлагаю предусмотреть, что назначение руководителей всех так называемых силовых ведомств президент может проводить по итогам консультаций с Советом Федерации.',\n",
       " 'Считаю, что такой подход сделает работу силовых, правоохранительных органов более прозрачной и в большей степени подотчетной обществу.\\n',\n",
       " 'Принцип назначения по итогам консультаций с Советом Федерации может быть применен и в отношении прокуроров регионов.',\n",
       " 'Сегодня они назначаются по согласованию с региональным законодательным собранием.',\n",
       " 'Уважаемые коллеги, это может на практике приводить к определенным, в том числе неформальным, обязательствам перед местными властями, а значит, и к рискам потерять объективность и беспристрастность.\\n',\n",
       " 'Что касается позиции территорий по кандидатуре прокурора в субъектах Федерации, то она может быть учтена в ходе консультаций в Совете Федерации, который как раз и является палатой регионов.',\n",
       " 'У нас не может быть какой-то своей доморощенной законности в одном и в другом регионе, а значит, прокурор - это сквозная верховная власть, следящая за исполнением этих законов вне зависимости ни от каких обстоятельств регионального характера.',\n",
       " 'Убежден, большая независимость прокуратуры от местных властей, безусловно, в интересах граждан, в каком бы субъекте они ни проживали.',\n",
       " 'Уважаемые коллеги, давайте руководствоваться прежде всего их интересами - интересами наших людей.\\n',\n",
       " 'И, наконец, седьмое: ключевую роль в обеспечении законности и прав граждан играет судебная система - Конституционный и Верховный Суды.',\n",
       " 'Подчеркну, безусловным должен быть не только профессионализм судей, но и доверие к ним.',\n",
       " 'Справедливость и моральное право принимать решения, затрагивающие судьбы людей, всегда в России имели первостепенное значение.',\n",
       " 'Основной закон должен закреплять и защищать независимость судей, принцип их подчинения только Конституции и федеральному законодательству.\\n',\n",
       " 'При этом считаю необходимым предусмотреть в Конституции полномочия Совета Федерации по представлению Президента России отрешать от должности судей Конституционного и Верховного Судов в случае совершения ими проступков, порочащих честь и достоинство, а также в иных случаях, предусмотренных федеральным конституционным законом, свидетельствующих о невозможности сохранения лицом статуса судьи.',\n",
       " 'Это предложение делается исходя из сложившейся практики.',\n",
       " 'Этого явно сегодня не хватает.\\n',\n",
       " 'Кроме того, для повышения качества отечественного законодательства, для надежной защиты интересов граждан предлагаю усилить роль Конституционного Суда, а именно: наделить его возможностью по запросам Президента проверять конституционность законопроектов, принятых Федеральным Собранием, до их подписания главой государства.',\n",
       " 'Можно подумать и о распространении полномочий Конституционного Суда оценивать на соответствие Конституции не только законы, но и иные нормативно-правовые акты органов государственной власти как федерального, так и регионального уровня.\\n',\n",
       " 'Уважаемые коллеги, подчеркну, прозвучавшие сегодня предложения, конечно, не ограничивают круг дискуссий вокруг возможных поправок в Конституции.',\n",
       " 'Уверен, что свои идеи выскажут общественные объединения, партии, регионы, юридическое сообщество, граждане страны.',\n",
       " 'Необходимо самое широкое публичное обсуждение.',\n",
       " 'Но, открывая эту дискуссию, хотел бы придать ей определенное направление, как минимум показать, перед какими вызовами мы стоим.\\n',\n",
       " 'Нельзя забывать, уважаемые коллеги, что стало с нашей страной после 1991 года.',\n",
       " 'После распада Советского Союза у нас остались прежние амбиции, при этом, конечно, сохранился колоссальный потенциал: и человеческий, интеллектуальный, ресурсный, территориальный, культурно-исторический и так далее.',\n",
       " 'Но возникли и угрозы, причем угрозы такого масштаба, о которых никто раньше даже и не задумывался.',\n",
       " 'А жаль, надо было бы подумать в свое время.\\n',\n",
       " 'Поэтому при дальнейшем государственном строительстве перед нами стоят, казалось бы, прямо противоположные задачи, служат ориентиром ценности, которые могут на первый взгляд представляться несовместимыми.',\n",
       " 'Что имею в виду?',\n",
       " 'Мы должны создать систему прочную, надежную, неуязвимую и по внешнему контуру абсолютно стабильную, безусловно гарантирующую России независимость и суверенитет.',\n",
       " 'В то же время систему внутри себя живую, гибкую, легко и своевременно, главное, меняющуюся в связи с тем, что происходит в мире, вокруг нас, а главное, в связи с развитием самого российского общества.',\n",
       " 'Систему, обеспечивающую в том числе сменяемость тех, кто находится у власти или занимает высокое положение в других сферах.',\n",
       " 'Такое обновление - неотъемлемое условие для прогрессивной эволюции общества и пусть не безошибочного, но стабильного развития, когда незыблемым остается главное - интересы России.\\n',\n",
       " 'Что еще считаю принципиальным и хотел бы особо подчеркнуть?',\n",
       " 'Поправки, которые нам предстоит обсуждать, не затрагивают фундаментальных основ Конституции, а значит, могут быть утверждены парламентом в рамках действующей процедуры и действующего закона через принятие соответствующих конституционных законов.\\n',\n",
       " 'Вместе с тем, учитывая, что предложенные новации касаются существенных изменений политической системы, деятельности исполнительной, законодательной, судебной власти, считаю необходимым провести голосование граждан страны по всему пакету предложенных поправок в Конституции Российской Федерации.',\n",
       " 'И только по его результатам принимать окончательное решение.\\n',\n",
       " 'Мнение людей, наших граждан, народа как носителя суверенитета и главного источника власти должно быть определяющим.',\n",
       " 'Все в конечном счете решают люди и сегодня, и в будущем, и в выборе стратегии развития страны, и в повседневных вопросах жизни в каждом регионе, городе, поселке.',\n",
       " 'Сильную, благополучную, современную Россию мы сможем построить только на основе безусловного уважения к мнению людей, к мнению народа.\\n',\n",
       " 'Наступивший 2020 год во многом рубежный.',\n",
       " 'Это переход к третьему десятилетию XXI века.',\n",
       " 'Перед Россией стоят прорывные исторические задачи, и в их решении значим вклад каждого.',\n",
       " 'Вместе, сообща мы обязательно изменим жизнь к лучшему.',\n",
       " 'Часто говорю это слово - \"вместе\", потому что Россия - это мы.',\n",
       " 'Я имею в виду не тех, кто находится в этом зале, или не только тех, кто в зале находится, а всех граждан нашей страны, потому что верю: успех определяет наша добрая воля к созиданию, к развитию, к достижению самых смелых планов, наш труд во имя своей семьи, своих близких, детей, их будущего, а значит, ради величия России, ради достоинства ее граждан.\\n',\n",
       " 'Благодарю вас за внимание.\\n\\xa0\\n',\n",
       " 'Москва, Кремль\\n15 января 2020 года']"
      ]
     },
     "execution_count": 39,
     "metadata": {},
     "output_type": "execute_result"
    }
   ],
   "source": [
    "posl_sentences = [sentence.text for sentence in posl_doc.sents]\n",
    "posl_sentences"
   ]
  },
  {
   "cell_type": "code",
   "execution_count": 40,
   "metadata": {},
   "outputs": [
    {
     "data": {
      "text/plain": [
       "459"
      ]
     },
     "execution_count": 40,
     "metadata": {},
     "output_type": "execute_result"
    }
   ],
   "source": [
    "len(posl_sentences)"
   ]
  },
  {
   "cell_type": "code",
   "execution_count": 41,
   "metadata": {},
   "outputs": [
    {
     "data": {
      "text/plain": [
       "['И, повторю, с их активным участием.\\n',\n",
       " 'Уважаемые коллеги!\\n',\n",
       " 'Судьба России, ее историческая 1 зависит от того, сколько нас будет (хочу содержательную часть начать именно с демографии), зависит от того, сколько детей родится в российских семьях через год, через пять, десять лет, какими они вырастут, кем станут, что сделают для развития страны и какие ценности будут для них опорой в жизни.\\n',\n",
       " 'Сегодня нас почти 147 миллионов человек.',\n",
       " 'Но мы вступили в сложный, очень сложный демографический период.',\n",
       " 'Его особенность в том, что благодаря мерам, которые мы приняли начиная с середины 2000 годов, нам удалось добиться положительных результатов в демографии.',\n",
       " 'И даже выйти на естественный прирост населения.',\n",
       " 'Потому и школьников у нас становится все больше.\\n',\n",
       " 'Но семьи-то сейчас создают малочисленные поколения 90-х годов.',\n",
       " 'Число рождений вновь падает.']"
      ]
     },
     "execution_count": 41,
     "metadata": {},
     "output_type": "execute_result"
    }
   ],
   "source": [
    "posl_sentences[10:20]"
   ]
  },
  {
   "cell_type": "code",
   "execution_count": 43,
   "metadata": {},
   "outputs": [
    {
     "data": {
      "text/plain": [
       "['в',\n",
       " 'нашем',\n",
       " 'обществе',\n",
       " 'четко',\n",
       " 'обозначился',\n",
       " 'запрос',\n",
       " 'на',\n",
       " 'перемены',\n",
       " '.',\n",
       " 'Люди',\n",
       " 'хотят',\n",
       " 'развития',\n",
       " 'и',\n",
       " 'сами',\n",
       " 'стремятся',\n",
       " 'двигаться',\n",
       " 'вперед',\n",
       " 'в',\n",
       " 'профессии',\n",
       " ',',\n",
       " 'знаниях',\n",
       " ',',\n",
       " 'в',\n",
       " 'достижении',\n",
       " 'благополучия',\n",
       " ',',\n",
       " 'готовы',\n",
       " 'брать',\n",
       " 'на',\n",
       " 'себя',\n",
       " 'ответственность',\n",
       " 'за',\n",
       " 'конкретные',\n",
       " 'дела',\n",
       " '.',\n",
       " 'Зачастую',\n",
       " 'они',\n",
       " 'лучше',\n",
       " 'знают',\n",
       " ',',\n",
       " 'что',\n",
       " ',',\n",
       " 'почему',\n",
       " 'и',\n",
       " 'как',\n",
       " 'надо',\n",
       " 'менять',\n",
       " 'там',\n",
       " ',',\n",
       " 'где',\n",
       " 'они',\n",
       " 'живут',\n",
       " ',',\n",
       " 'работают',\n",
       " '-',\n",
       " 'в',\n",
       " 'городах',\n",
       " ',',\n",
       " 'районах',\n",
       " ',',\n",
       " 'селах',\n",
       " ',',\n",
       " 'по',\n",
       " 'всей',\n",
       " 'стране',\n",
       " '.',\n",
       " '\\n',\n",
       " 'Темпы',\n",
       " 'изменений',\n",
       " 'должны',\n",
       " 'нарастать',\n",
       " 'с',\n",
       " 'каждым',\n",
       " 'годом',\n",
       " ',',\n",
       " 'с',\n",
       " 'ощутимыми',\n",
       " 'для',\n",
       " 'граждан',\n",
       " 'результатами']"
      ]
     },
     "execution_count": 43,
     "metadata": {},
     "output_type": "execute_result"
    }
   ],
   "source": [
    "posl_words = [token.text for token in posl_doc]\n",
    "posl_words [100:180]"
   ]
  },
  {
   "cell_type": "code",
   "execution_count": 45,
   "metadata": {},
   "outputs": [
    {
     "name": "stdout",
     "output_type": "stream",
     "text": [
      "пот и школьник у нас станов все больш\n"
     ]
    }
   ],
   "source": [
    "from nltk.stem import SnowballStemmer\n",
    "stemmer = SnowballStemmer('russian')\n",
    "\n",
    "sample_sentence = 'Потому и школьников у нас становится все больше'\n",
    "\n",
    "stemmed_sentence = []\n",
    "for word in sample_sentence.split():\n",
    "    stemmed_sentence.append(stemmer.stem(word))\n",
    "\n",
    "print(' '.join(stemmed_sentence))"
   ]
  },
  {
   "cell_type": "code",
   "execution_count": null,
   "metadata": {},
   "outputs": [],
   "source": [
    "posl_sentences = [sentence.text for sentence in posl_doc.sents]\n",
    "posl_sentences"
   ]
  },
  {
   "cell_type": "code",
   "execution_count": 50,
   "metadata": {},
   "outputs": [],
   "source": [
    "from nltk.stem import SnowballStemmer\n",
    "stemmer = SnowballStemmer('russian')\n",
    "\n",
    "# sample_sentence = 'Потому и школьников у нас становится все больше'\n",
    "\n",
    "# stemmed_sentence = []\n"
   ]
  },
  {
   "cell_type": "code",
   "execution_count": null,
   "metadata": {},
   "outputs": [],
   "source": [
    "posl_doc"
   ]
  },
  {
   "cell_type": "code",
   "execution_count": 51,
   "metadata": {},
   "outputs": [
    {
     "name": "stdout",
     "output_type": "stream",
     "text": [
      "('arabic', 'danish', 'dutch', 'english', 'finnish', 'french', 'german', 'hungarian', 'italian', 'norwegian', 'porter', 'portuguese', 'romanian', 'russian', 'spanish', 'swedish')\n"
     ]
    }
   ],
   "source": [
    "from nltk.stem.snowball import SnowballStemmer as s_stem\n",
    "print(s_stem.languages)"
   ]
  },
  {
   "cell_type": "code",
   "execution_count": null,
   "metadata": {},
   "outputs": [],
   "source": [
    "# Объединение путей:\n",
    "\n",
    "import os\n",
    "\n",
    "directory = \"folder\"\n",
    "filename = \"file.txt\"\n",
    "full_path = os.path.join(directory, filename)\n",
    "print(full_path)\n",
    "# Проверка существования файла или каталога:\n",
    "\n",
    "if os.path.exists(full_path):\n",
    "    print(\"Файл существует.\")\n",
    "else:\n",
    "    print(\"Файл не найден.\")\n",
    "\n",
    "# Получение имени файла и расширения:\n",
    "\n",
    "filename = \"example.txt\"\n",
    "name, extension = os.path.splitext(filename)\n",
    "print(\"Имя файла:\", name)\n",
    "print(\"Расширение:\", extension)\n",
    "\n",
    "# Получение абсолютного пути:\n",
    "\n",
    "relative_path = \"folder/file.txt\"\n",
    "absolute_path = os.path.abspath(relative_path)\n",
    "print(\"Абсолютный путь:\", absolute_path)\n",
    "# Проверка, является ли путь файлом или каталогом:\n",
    "# \n",
    "if os.path.isfile(full_path):\n",
    "    print(\"Это файл.\")\n",
    "elif os.path.isdir(full_path):\n",
    "    print(\"Это каталог.\")\n"
   ]
  }
 ],
 "metadata": {
  "kernelspec": {
   "display_name": "Python 3",
   "language": "python",
   "name": "python3"
  },
  "language_info": {
   "codemirror_mode": {
    "name": "ipython",
    "version": 3
   },
   "file_extension": ".py",
   "mimetype": "text/x-python",
   "name": "python",
   "nbconvert_exporter": "python",
   "pygments_lexer": "ipython3",
   "version": "3.11.0"
  }
 },
 "nbformat": 4,
 "nbformat_minor": 2
}
