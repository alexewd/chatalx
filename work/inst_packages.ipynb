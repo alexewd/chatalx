{
 "cells": [
  {
   "cell_type": "code",
   "execution_count": 17,
   "id": "3983392f-b585-4d5f-b1d7-19e2039abbd4",
   "metadata": {},
   "outputs": [],
   "source": [
    "options(warn=-1)"
   ]
  },
  {
   "cell_type": "code",
   "execution_count": 36,
   "id": "70175e82-902e-4acd-b631-90f12443305c",
   "metadata": {},
   "outputs": [
    {
     "name": "stderr",
     "output_type": "stream",
     "text": [
      "Loading required package: RColorBrewer\n",
      "\n"
     ]
    }
   ],
   "source": [
    "library(wordcloud)"
   ]
  },
  {
   "cell_type": "code",
   "execution_count": 18,
   "id": "bac9a8ae-34f5-4209-99cc-70a99320deb7",
   "metadata": {},
   "outputs": [
    {
     "name": "stderr",
     "output_type": "stream",
     "text": [
      "Loading required package: NLP\n",
      "\n"
     ]
    }
   ],
   "source": [
    "library(udpipe)\n",
    "library(tm)\n",
    "library(stringr)\n",
    "ud_model<- \"data\\\\russian-syntagrus-ud-2.4-190531.udpipe\""
   ]
  },
  {
   "cell_type": "code",
   "execution_count": 24,
   "id": "16fb1ca7-a1e1-47cb-80bb-26e67d0b49c1",
   "metadata": {},
   "outputs": [],
   "source": [
    "model_path <- \"https://github.com/jwijffels/udpipe.models.ud.2.4/raw/master/inst/udpipe-ud-2.4-190531/russian-syntagrus-ud-2.4-190531.udpipe\""
   ]
  },
  {
   "cell_type": "code",
   "execution_count": 27,
   "id": "489b9966-a9f9-4b88-97e6-fa417f299b79",
   "metadata": {},
   "outputs": [
    {
     "name": "stderr",
     "output_type": "stream",
     "text": [
      "Downloading udpipe model from https://raw.githubusercontent.com/jwijffels/udpipe.models.ud.2.5/master/inst/udpipe-ud-2.5-191206/russian-syntagrus-ud-2.5-191206.udpipe to /home/jovyan/work/russian-syntagrus-ud-2.5-191206.udpipe\n",
      "\n",
      " - This model has been trained on version 2.5 of data from https://universaldependencies.org\n",
      "\n",
      " - The model is distributed under the CC-BY-SA-NC license: https://creativecommons.org/licenses/by-nc-sa/4.0\n",
      "\n",
      " - Visit https://github.com/jwijffels/udpipe.models.ud.2.5 for model license details.\n",
      "\n",
      " - For a list of all models and their licenses (most models you can download with this package have either a CC-BY-SA or a CC-BY-SA-NC license) read the documentation at ?udpipe_download_model. For building your own models: visit the documentation by typing vignette('udpipe-train', package = 'udpipe')\n",
      "\n",
      "Downloading finished, model stored at '/home/jovyan/work/russian-syntagrus-ud-2.5-191206.udpipe'\n",
      "\n"
     ]
    }
   ],
   "source": [
    "rumodel <- udpipe_download_model(language = \"russian-syntagrus\")"
   ]
  },
  {
   "cell_type": "code",
   "execution_count": 28,
   "id": "6ace6c8e-3836-469c-a0b9-d3ccef760f8b",
   "metadata": {},
   "outputs": [],
   "source": [
    "ud_model<- '/home/jovyan/work/russian-syntagrus-ud-2.5-191206.udpipe'"
   ]
  },
  {
   "cell_type": "code",
   "execution_count": 29,
   "id": "dc2181eb-9c95-4949-9de7-4bee468bb8bf",
   "metadata": {},
   "outputs": [],
   "source": [
    "# Путь к папке с текстами\n",
    "corpus_path <- \"data\\\\wp\""
   ]
  },
  {
   "cell_type": "code",
   "execution_count": 30,
   "id": "28648fa4-22a2-40f1-9f4f-20c66a1b2726",
   "metadata": {},
   "outputs": [],
   "source": [
    "ud_model <- udpipe_load_model(ud_model)"
   ]
  },
  {
   "cell_type": "code",
   "execution_count": 31,
   "id": "8ba32b58-650e-470e-add3-2f50bc772728",
   "metadata": {},
   "outputs": [],
   "source": [
    "# Функция для чтения текстовых файлов из папки\n",
    "read_files_from_folder <- function(folder_path) {\n",
    "  files <- list.files(path = folder_path, pattern = \"\\\\.txt$\", full.names = TRUE)\n",
    "  texts <- lapply(files, readLines, encoding = \"UTF-8\")\n",
    "  return(texts)\n",
    "}\n",
    "\n",
    "# Функция для очистки текста от пунктуации, цифр и приведения к нижнему регистру\n",
    "clean_text <- function(text) {\n",
    "  text <- tolower(text)\n",
    "  text <- gsub(\"[[:punct:]]\", \" \", text)\n",
    "  text <- gsub(\"[[:digit:]]\", \"\", text)\n",
    "  return(text)\n",
    "}\n",
    "\n",
    "# Функция для токенизации текста и извлечения лемм\n",
    "tokenize_text <- function(text) {\n",
    "  x <- udpipe_annotate(ud_model, x = text)\n",
    "  x <- as.data.frame(x)\n",
    "  tokens <- x$lemma\n",
    "  return(tokens)\n",
    "}\n",
    "\n",
    "# Функция для удаления стоп-слов\n",
    "remove_stopwords <- function(tokens) {\n",
    "  stopwords <- stopwords(\"ru\")\n",
    "  filtered_tokens <- tokens[!tokens %in% stopwords]\n",
    "  return(filtered_tokens)\n",
    "}\n",
    "\n",
    "# Функция для подсчета частоты встречаемости слов\n",
    "count_word_frequency <- function(tokens) {\n",
    "  word_freq <- table(tokens)\n",
    "  return(word_freq)\n",
    "}\n",
    "\n",
    "# Функция для подсчета частоты встречаемости имен собственных\n",
    "count_proper_nouns <- function(tokens) {\n",
    "  proper_nouns <- tokens[str_detect(tokens, \"^Np\")]\n",
    "  proper_noun_freq <- table(proper_nouns)\n",
    "  return(proper_noun_freq)\n",
    "}\n",
    "\n",
    "# Функция для подсчета частоты встречаемости пар \"прилагательное - существительное\"\n",
    "count_adj_noun_pairs <- function(tokens) {\n",
    "  adj_noun_pairs <- tokens[str_detect(tokens, \"^A\")] + \" \" + tokens[str_detect(tokens, \"^N\")]\n",
    "  adj_noun_pair_freq <- table(adj_noun_pairs)\n",
    "  return(adj_noun_pair_freq)\n",
    "}\n"
   ]
  },
  {
   "cell_type": "code",
   "execution_count": 32,
   "id": "6447f31f-fb24-4f20-a986-ebab16850049",
   "metadata": {},
   "outputs": [],
   "source": [
    "# Чтение текстов из папки\n",
    "corpus <- read_files_from_folder(corpus_path)"
   ]
  },
  {
   "cell_type": "code",
   "execution_count": 38,
   "id": "8e173b7c-50cb-4db9-9733-ed78055ab72b",
   "metadata": {},
   "outputs": [],
   "source": [
    "# Объединение всех текстов в одну строку\n",
    "full_text <- tolower(paste(corpus, collapse = \" \"))\n",
    "library(keras)\n",
    "# Анализ текста\n",
    "cleaned_text <- clean_text(full_text)\n",
    "tokens <- tokenize_text(cleaned_text)\n",
    "tokens <- remove_stopwords(tokens)\n",
    "save_text_tokenizer(tokens, \"tokens\")\n",
    "\n",
    "word_freq <- count_word_frequency(tokens)\n",
    "\n",
    "# proper_noun_freq <- count_proper_nouns(tokens)\n",
    "# print(\"Наиболее часто встречающиеся имена собственные:\")\n",
    "# print(proper_noun_freq[order(-proper_noun_freq)[1:10]])\n",
    "\n",
    "# adj_noun_pair_freq <- count_adj_noun_pairs(tokens)\n",
    "# print(\"Наиболее часто встречающиеся пары 'прилагательное - существительное':\")\n",
    "# print(adj_noun_pair_freq[order(-adj_noun_pair_freq)[1:10]])\n",
    "# wordcloud(word_freq)\n",
    "# word_freq<-tm_map(word_freq, removeNumbers)\n",
    "# wordcloud(word_freq)"
   ]
  },
  {
   "cell_type": "code",
   "execution_count": 39,
   "id": "5ea83fa4-9c3b-4cef-a82a-8b87b05fa5fd",
   "metadata": {},
   "outputs": [
    {
     "data": {
      "text/plain": [
       "< table of extent 0 >"
      ]
     },
     "metadata": {},
     "output_type": "display_data"
    }
   ],
   "source": [
    "word_freq"
   ]
  },
  {
   "cell_type": "code",
   "execution_count": null,
   "id": "2d498a72-5db9-4313-b8f0-c54c51010b0a",
   "metadata": {},
   "outputs": [],
   "source": []
  },
  {
   "cell_type": "code",
   "execution_count": null,
   "id": "9b242c06-9036-4d30-9334-ae74e32c96b0",
   "metadata": {},
   "outputs": [],
   "source": []
  },
  {
   "cell_type": "code",
   "execution_count": null,
   "id": "8a93bc71-6778-48ff-93a5-fcf689de3dec",
   "metadata": {},
   "outputs": [],
   "source": []
  },
  {
   "cell_type": "code",
   "execution_count": null,
   "id": "ed9f7ba0-e70d-4f52-80fa-14b99452282f",
   "metadata": {},
   "outputs": [],
   "source": []
  },
  {
   "cell_type": "code",
   "execution_count": 1,
   "id": "10aeb1d4-cfb2-48ec-888a-9b54cdd8b972",
   "metadata": {},
   "outputs": [
    {
     "name": "stderr",
     "output_type": "stream",
     "text": [
      "also installing the dependencies ‘ISOcodes’, ‘fastmatch’, ‘SnowballC’, ‘stopwords’\n",
      "\n",
      "\n",
      "Updating HTML index of packages in '.Library'\n",
      "\n",
      "Making 'packages.html' ...\n",
      " done\n",
      "\n"
     ]
    }
   ],
   "source": [
    "install.packages(\"quanteda\")"
   ]
  },
  {
   "cell_type": "code",
   "execution_count": 20,
   "id": "37714aa0-f4fc-4b1a-86d5-5cc12bb06603",
   "metadata": {},
   "outputs": [
    {
     "name": "stderr",
     "output_type": "stream",
     "text": [
      "also installing the dependencies ‘RcppTOML’, ‘here’, ‘png’, ‘config’, ‘tfautograph’, ‘reticulate’, ‘tensorflow’, ‘tfruns’, ‘zeallot’\n",
      "\n",
      "\n",
      "Updating HTML index of packages in '.Library'\n",
      "\n",
      "Making 'packages.html' ...\n",
      " done\n",
      "\n"
     ]
    }
   ],
   "source": [
    "install.packages('keras')"
   ]
  },
  {
   "cell_type": "code",
   "execution_count": 3,
   "id": "dc720b0c-c132-4ff8-8fd2-a2781912e020",
   "metadata": {},
   "outputs": [
    {
     "name": "stderr",
     "output_type": "stream",
     "text": [
      "also installing the dependencies ‘coda’, ‘extrafontdb’, ‘Rttf2pt1’, ‘statnet.common’, ‘cpp11’, ‘extrafont’, ‘ggrepel’, ‘sna’, ‘igraph’, ‘network’\n",
      "\n",
      "\n",
      "Updating HTML index of packages in '.Library'\n",
      "\n",
      "Making 'packages.html' ...\n",
      " done\n",
      "\n"
     ]
    }
   ],
   "source": [
    "install.packages('quanteda.textplots')"
   ]
  },
  {
   "cell_type": "code",
   "execution_count": 4,
   "id": "61f1b3b2-46ff-4692-92e1-996993003596",
   "metadata": {},
   "outputs": [
    {
     "name": "stderr",
     "output_type": "stream",
     "text": [
      "Updating HTML index of packages in '.Library'\n",
      "\n",
      "Making 'packages.html' ...\n",
      " done\n",
      "\n"
     ]
    }
   ],
   "source": [
    "install.packages('purrr')"
   ]
  },
  {
   "cell_type": "code",
   "execution_count": 5,
   "id": "6598e2a3-48d5-496e-a8ff-e0f1678642d2",
   "metadata": {},
   "outputs": [
    {
     "name": "stderr",
     "output_type": "stream",
     "text": [
      "also installing the dependencies ‘NLP’, ‘slam’, ‘BH’\n",
      "\n",
      "\n",
      "Updating HTML index of packages in '.Library'\n",
      "\n",
      "Making 'packages.html' ...\n",
      " done\n",
      "\n"
     ]
    }
   ],
   "source": [
    "install.packages('tm')"
   ]
  },
  {
   "cell_type": "code",
   "execution_count": 6,
   "id": "148575b3-e91a-49ff-95fe-03b2d6945be5",
   "metadata": {},
   "outputs": [
    {
     "name": "stderr",
     "output_type": "stream",
     "text": [
      "Updating HTML index of packages in '.Library'\n",
      "\n",
      "Making 'packages.html' ...\n",
      " done\n",
      "\n"
     ]
    }
   ],
   "source": [
    "install.packages('stringr')"
   ]
  },
  {
   "cell_type": "code",
   "execution_count": 7,
   "id": "4ee042ac-0aa9-4910-978f-547776630ccb",
   "metadata": {},
   "outputs": [
    {
     "name": "stderr",
     "output_type": "stream",
     "text": [
      "Updating HTML index of packages in '.Library'\n",
      "\n",
      "Making 'packages.html' ...\n",
      " done\n",
      "\n"
     ]
    }
   ],
   "source": [
    "install.packages('tibble')"
   ]
  },
  {
   "cell_type": "code",
   "execution_count": 8,
   "id": "c34b482e-9471-4351-8144-1013789521db",
   "metadata": {},
   "outputs": [
    {
     "name": "stderr",
     "output_type": "stream",
     "text": [
      "Updating HTML index of packages in '.Library'\n",
      "\n",
      "Making 'packages.html' ...\n",
      " done\n",
      "\n"
     ]
    }
   ],
   "source": [
    "install.packages('readr')"
   ]
  },
  {
   "cell_type": "code",
   "execution_count": 9,
   "id": "54464da7-b480-44e9-82af-45eb516e2164",
   "metadata": {},
   "outputs": [
    {
     "name": "stderr",
     "output_type": "stream",
     "text": [
      "Updating HTML index of packages in '.Library'\n",
      "\n",
      "Making 'packages.html' ...\n",
      " done\n",
      "\n"
     ]
    }
   ],
   "source": [
    "install.packages('forcats')"
   ]
  },
  {
   "cell_type": "code",
   "execution_count": 10,
   "id": "7ba8e790-6310-442c-81d7-4222d094e3fd",
   "metadata": {},
   "outputs": [
    {
     "name": "stderr",
     "output_type": "stream",
     "text": [
      "Updating HTML index of packages in '.Library'\n",
      "\n",
      "Making 'packages.html' ...\n",
      " done\n",
      "\n"
     ]
    }
   ],
   "source": [
    "install.packages('udpipe')"
   ]
  },
  {
   "cell_type": "code",
   "execution_count": 11,
   "id": "053f3d1f-8076-455c-a7ff-f480ef5726dc",
   "metadata": {},
   "outputs": [
    {
     "name": "stderr",
     "output_type": "stream",
     "text": [
      "Updating HTML index of packages in '.Library'\n",
      "\n",
      "Making 'packages.html' ...\n",
      " done\n",
      "\n"
     ]
    }
   ],
   "source": [
    "install.packages('textTinyR')"
   ]
  },
  {
   "cell_type": "code",
   "execution_count": 12,
   "id": "b9c7e70f-72be-41e0-b8d1-b788638f42b8",
   "metadata": {},
   "outputs": [
    {
     "name": "stderr",
     "output_type": "stream",
     "text": [
      "Updating HTML index of packages in '.Library'\n",
      "\n",
      "Making 'packages.html' ...\n",
      " done\n",
      "\n"
     ]
    }
   ],
   "source": [
    "install.packages('wordcloud')"
   ]
  },
  {
   "cell_type": "code",
   "execution_count": 13,
   "id": "cb5626cc-3764-456c-baa5-e8a1190cd41d",
   "metadata": {},
   "outputs": [
    {
     "name": "stderr",
     "output_type": "stream",
     "text": [
      "Updating HTML index of packages in '.Library'\n",
      "\n",
      "Making 'packages.html' ...\n",
      " done\n",
      "\n"
     ]
    }
   ],
   "source": [
    "install.packages('wordcloud2')"
   ]
  },
  {
   "cell_type": "code",
   "execution_count": 14,
   "id": "0c9c4804-4ed9-418f-8538-69af03a42cff",
   "metadata": {},
   "outputs": [
    {
     "name": "stderr",
     "output_type": "stream",
     "text": [
      "Updating HTML index of packages in '.Library'\n",
      "\n",
      "Making 'packages.html' ...\n",
      " done\n",
      "\n"
     ]
    }
   ],
   "source": [
    "install.packages('tokenizers')"
   ]
  },
  {
   "cell_type": "code",
   "execution_count": 15,
   "id": "32605cee-3c6e-4402-acec-1f581ddc0c70",
   "metadata": {},
   "outputs": [
    {
     "name": "stderr",
     "output_type": "stream",
     "text": [
      "Updating HTML index of packages in '.Library'\n",
      "\n",
      "Making 'packages.html' ...\n",
      " done\n",
      "\n"
     ]
    }
   ],
   "source": [
    "install.packages('NLP')"
   ]
  },
  {
   "cell_type": "code",
   "execution_count": null,
   "id": "f52bad3d-d07d-44a3-8003-3745394a2942",
   "metadata": {},
   "outputs": [],
   "source": []
  }
 ],
 "metadata": {
  "kernelspec": {
   "display_name": "R",
   "language": "R",
   "name": "ir"
  },
  "language_info": {
   "codemirror_mode": "r",
   "file_extension": ".r",
   "mimetype": "text/x-r-source",
   "name": "R",
   "pygments_lexer": "r",
   "version": "4.3.1"
  }
 },
 "nbformat": 4,
 "nbformat_minor": 5
}
