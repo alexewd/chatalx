{
  "cells": [
    {
      "cell_type": "code",
      "source": [
        "import re\r\n",
        "import pandas as pd\r\n",
        "from pathlib import Path"
      ],
      "outputs": [],
      "execution_count": null,
      "metadata": {
        "collapsed": true,
        "jupyter": {
          "source_hidden": false,
          "outputs_hidden": false
        },
        "nteract": {
          "transient": {
            "deleting": false
          }
        }
      }
    },
    {
      "cell_type": "code",
      "source": [
        "# Укажите путь к текстовому файлу\r\n",
        "text_file = Path(\"e:/cleaned_json_letter/Лесков Николай. Том 11.txt\")\r\n",
        "output_csv = \"letters_processed.csv\""
      ],
      "outputs": [],
      "execution_count": null,
      "metadata": {
        "collapsed": true,
        "jupyter": {
          "source_hidden": false,
          "outputs_hidden": false
        },
        "nteract": {
          "transient": {
            "deleting": false
          }
        }
      }
    },
    {
      "cell_type": "code",
      "source": [
        "def extract_letter_info_block(text_block):\r\n",
        "    \"\"\"\r\n",
        "    Извлекает информацию из одного блока текста письма.\r\n",
        "    \"\"\"\r\n",
        "    # Шаблоны для извлечения частей письма\r\n",
        "    number_pattern = r\"^(\\d+)\\n\"\r\n",
        "    recipient_pattern = r\"^\\d+\\n(.*?)\\n\"\r\n",
        "    date_place_pattern = r\"\\n(\\d{1,2} [а-яё]+ \\d{4} г\\., [А-ЯЁа-яё ]+)\\.\\n\"\r\n",
        "    signature_pattern = r\"\\n(Ваш[^\\n]*)$\"\r\n",
        "    \r\n",
        "    # Извлечение данных\r\n",
        "    number = re.search(number_pattern, text_block)\r\n",
        "    number = number.group(1) if number else None\r\n",
        "\r\n",
        "    recipient = re.search(recipient_pattern, text_block)\r\n",
        "    recipient = recipient.group(1) if recipient else None\r\n",
        "\r\n",
        "    date_place = re.search(date_place_pattern, text_block)\r\n",
        "    date_place = date_place.group(1) if date_place else None\r\n",
        "    date, place = (date_place.split(\", \") if date_place else (None, None))\r\n",
        "\r\n",
        "    signature = re.search(signature_pattern, text_block)\r\n",
        "    signature = signature.group(1) if signature else None\r\n",
        "\r\n",
        "    # Оставшийся текст — это текст письма\r\n",
        "    text = re.sub(rf\"{number_pattern}|{recipient_pattern}|{date_place_pattern}|{signature_pattern}\", \"\", text_block).strip()\r\n",
        "\r\n",
        "    return {\r\n",
        "        \"number\": number,\r\n",
        "        \"recipient\": recipient,\r\n",
        "        \"date\": date,\r\n",
        "        \"place\": place,\r\n",
        "        \"text\": text,\r\n",
        "        \"signature\": signature,\r\n",
        "    }"
      ],
      "outputs": [],
      "execution_count": null,
      "metadata": {
        "collapsed": true,
        "jupyter": {
          "source_hidden": false,
          "outputs_hidden": false
        },
        "nteract": {
          "transient": {
            "deleting": false
          }
        }
      }
    },
    {
      "cell_type": "code",
      "source": [
        "def process_letters_from_text_file(file_path):\n",
        "    \"\"\"\n",
        "    Обрабатывает текстовый файл с письмами и возвращает DataFrame.\n",
        "    \"\"\"\n",
        "    with open(file_path, \"r\", encoding=\"utf-8\") as f:\n",
        "        content = f.read()\n",
        "\n",
        "    # Разделяем текст на блоки по номерам писем\n",
        "    letters = re.split(r\"(?<=\\n)\\d+\\n\", content)\n",
        "    letters = [f\"{i+1}\\n{letters[i]}\" for i in range(len(letters)) if letters[i].strip()]  # Восстанавливаем номера\n",
        "\n",
        "    # Обрабатываем каждый блок\n",
        "    extracted_data = [extract_letter_info_block(letter) for letter in letters]\n",
        "\n",
        "    return pd.DataFrame(extracted_data)\n",
        "\n",
        "\n",
        "\n",
        "\n"
      ],
      "outputs": [],
      "execution_count": null,
      "metadata": {
        "collapsed": true,
        "jupyter": {
          "source_hidden": false,
          "outputs_hidden": false
        },
        "nteract": {
          "transient": {
            "deleting": false
          }
        }
      }
    },
    {
      "cell_type": "code",
      "source": [
        "# Обрабатываем текстовый файл\r\n",
        "letters_df = process_letters_from_text_file(text_file)\r\n",
        "\r\n",
        "# Сохраняем в CSV\r\n",
        "letters_df.to_csv(output_csv, index=False, encoding=\"utf-8\")\r\n",
        "\r\n",
        "# Выводим результат\r\n",
        "print(\"Все письма:\")\r\n",
        "# print(letters_df)\r\n",
        "letters_df.sample(6)"
      ],
      "outputs": [],
      "execution_count": null,
      "metadata": {
        "collapsed": true,
        "jupyter": {
          "source_hidden": false,
          "outputs_hidden": false
        },
        "nteract": {
          "transient": {
            "deleting": false
          }
        }
      }
    },
    {
      "cell_type": "code",
      "source": [],
      "outputs": [],
      "execution_count": null,
      "metadata": {
        "collapsed": true,
        "jupyter": {
          "source_hidden": false,
          "outputs_hidden": false
        },
        "nteract": {
          "transient": {
            "deleting": false
          }
        }
      }
    },
    {
      "cell_type": "code",
      "source": [],
      "outputs": [],
      "execution_count": null,
      "metadata": {
        "collapsed": true,
        "jupyter": {
          "source_hidden": false,
          "outputs_hidden": false
        },
        "nteract": {
          "transient": {
            "deleting": false
          }
        }
      }
    }
  ],
  "metadata": {
    "kernel_info": {
      "name": "python3"
    },
    "language_info": {
      "name": "python",
      "version": "3.11.0",
      "mimetype": "text/x-python",
      "codemirror_mode": {
        "name": "ipython",
        "version": 3
      },
      "pygments_lexer": "ipython3",
      "nbconvert_exporter": "python",
      "file_extension": ".py"
    },
    "kernelspec": {
      "argv": [
        "C:\\Users\\alexewd\\AppData\\Local\\Programs\\Python\\Python311\\python.exe",
        "-m",
        "ipykernel_launcher",
        "-f",
        "{connection_file}"
      ],
      "display_name": "Python 3 (ipykernel)",
      "language": "python",
      "metadata": {
        "debugger": true
      },
      "name": "python3"
    },
    "nteract": {
      "version": "0.28.0"
    }
  },
  "nbformat": 4,
  "nbformat_minor": 0
}