{
 "cells": [
  {
   "cell_type": "code",
   "execution_count": 1,
   "id": "40afdf48-89fb-4567-a8a6-fec9aaa69571",
   "metadata": {},
   "outputs": [
    {
     "name": "stderr",
     "output_type": "stream",
     "text": [
      "Warning message:\n",
      "\"пакет 'quanteda' был собран под R версии 4.1.3\"\n",
      "Package version: 3.3.0\n",
      "Unicode version: 15.1\n",
      "ICU version: 74.1\n",
      "\n",
      "Parallel computing: 8 of 8 threads used.\n",
      "\n",
      "See https://quanteda.io for tutorials and examples.\n",
      "\n",
      "Warning message:\n",
      "\"пакет 'quanteda.textstats' был собран под R версии 4.1.3\"\n",
      "Warning message:\n",
      "\"пакет 'progress' был собран под R версии 4.1.3\"\n"
     ]
    }
   ],
   "source": [
    "library(quanteda)\n",
    "library(quanteda.textstats)\n",
    "library(progress)\n",
    "# Чтение файла\n",
    "text_data <- readLines('f:/chatepc/chatalx/work/data/obriv.txt', encoding = \"UTF-8\")\n",
    "\n",
    "# Создание корпуса текста с использованием quanteda\n",
    "corpus <- corpus(text_data)\n",
    "\n",
    "# Создание списка своих стоп-слов\n",
    "my_stopwords <- c(stopwords(\"ru\"), \"не\",\"на\",\"только\",\"с\",\"к\",\"я\",\"о\",\"а\",\"ему\",\"от\",\"у\",\"она\",\"но\",\"так\",\"все\",\"было\",\"что\",\"и\",\"в\",\"его\",\"как\",\"из\",\"еще\",\"за\",\"это\",\"бы\",\"вы\",\"то\",\"он\",\"же\",\"по\",\"ее\",\"это\", \"в\", \"с\", \"и\", \"который\", \"свой\", \"весь\", \"хотя\", \"вообще\", \"ох\", \"всё\", \"ты\",\"который\",\"которые\",\"ежели\", \"очень\", \"бы\", \"что-то\", \"—\", \"…\",\"— \",\" —\")\n",
    "\n",
    "# Очистка текста и создание токенов\n",
    "tokens <- tokens(corpus, \n",
    "                 remove_punct = TRUE,  # Удаление знаков препинания\n",
    "                 remove_numbers = TRUE,  # Удаление чисел\n",
    "                 remove_symbols = TRUE,  # Удаление символов\n",
    "                 remove_separators = TRUE)  # Удаление разделителей\n",
    "\n",
    "# Приведение токенов к нижнему регистру и удаление своих стоп-слов\n",
    "tokens <- tokens_tolower(tokens)\n",
    "tokens <- tokens_remove(tokens, my_stopwords)  # Удаление своих стоп-слов"
   ]
  },
  {
   "cell_type": "code",
   "execution_count": null,
   "id": "a70d15af-3d41-40ee-8e9c-2281a40ce0a2",
   "metadata": {},
   "outputs": [],
   "source": []
  },
  {
   "cell_type": "code",
   "execution_count": 2,
   "id": "c51693e1-50e3-4688-a997-2762165dddca",
   "metadata": {},
   "outputs": [
    {
     "ename": "ERROR",
     "evalue": "Error in if (...length() && any(...names() == \"Dimnames\")) .Object@Dimnames <- fixupDN(.Object@Dimnames): пропущенное значение, а нужно TRUE/FALSE\n",
     "output_type": "error",
     "traceback": [
      "Error in if (...length() && any(...names() == \"Dimnames\")) .Object@Dimnames <- fixupDN(.Object@Dimnames): пропущенное значение, а нужно TRUE/FALSE\nTraceback:\n",
      "1. dfm(tokens)",
      "2. dfm.tokens(tokens)",
      "3. build_dfm(temp, type, docvars = get_docvars(x, user = TRUE, system = TRUE), \n .     meta = attrs[[\"meta\"]])",
      "4. new(class, as(as(as(x, \"CsparseMatrix\"), \"generalMatrix\"), \"dMatrix\"), \n .     docvars = docvars, meta = make_meta(\"dfm\", inherit = meta, \n .         ...))",
      "5. initialize(value, ...)",
      "6. initialize(value, ...)"
     ]
    }
   ],
   "source": [
    "# Создание документ-термин матрицы (DTM)\n",
    "dtm <- dfm(tokens)\n",
    "\n",
    "# Преобразование DTM в data.frame\n",
    "term_matrix_df <- convert(dtm, to = \"data.frame\")"
   ]
  },
  {
   "cell_type": "code",
   "execution_count": null,
   "id": "8aeed713-ada0-40ff-a08f-7e322ada6f14",
   "metadata": {},
   "outputs": [],
   "source": []
  },
  {
   "cell_type": "code",
   "execution_count": 1,
   "id": "9747e72a-9299-4372-b493-4f1ddab8b346",
   "metadata": {
    "scrolled": true
   },
   "outputs": [
    {
     "name": "stderr",
     "output_type": "stream",
     "text": [
      "Warning message:\n",
      "\"пакет 'quanteda' был собран под R версии 4.1.3\"\n"
     ]
    },
    {
     "ename": "ERROR",
     "evalue": "Error: не удалась загрузка пакета или пространства имен для 'quanteda' in library.dynam(lib, package, package.lib):\nDLL 'quanteda' не найден: может быть, не установлен в этой архитектуре?\n",
     "output_type": "error",
     "traceback": [
      "Error: не удалась загрузка пакета или пространства имен для 'quanteda' in library.dynam(lib, package, package.lib):\nDLL 'quanteda' не найден: может быть, не установлен в этой архитектуре?\nTraceback:\n",
      "1. library(quanteda)",
      "2. tryCatch({\n .     attr(package, \"LibPath\") <- which.lib.loc\n .     ns <- loadNamespace(package, lib.loc)\n .     env <- attachNamespace(ns, pos = pos, deps, exclude, include.only)\n . }, error = function(e) {\n .     P <- if (!is.null(cc <- conditionCall(e))) \n .         paste(\" in\", deparse(cc)[1L])\n .     else \"\"\n .     msg <- gettextf(\"package or namespace load failed for %s%s:\\n %s\", \n .         sQuote(package), P, conditionMessage(e))\n .     if (logical.return && !quietly) \n .         message(paste(\"Error:\", msg), domain = NA)\n .     else stop(msg, call. = FALSE, domain = NA)\n . })",
      "3. tryCatchList(expr, classes, parentenv, handlers)",
      "4. tryCatchOne(expr, names, parentenv, handlers[[1L]])",
      "5. value[[3L]](cond)",
      "6. stop(msg, call. = FALSE, domain = NA)"
     ]
    }
   ],
   "source": [
    "library(quanteda)\n",
    "library(quanteda.textstats)\n",
    "library(progress)\n",
    "\n",
    "# Чтение файла\n",
    "text_data <- readLines('f:/chatepc/chatalx/work/data/obriv.txt', encoding = \"UTF-8\")\n",
    "\n",
    "# Проверка на наличие NA\n",
    "if (anyNA(text_data)) {\n",
    "  text_data <- text_data[!is.na(text_data)]\n",
    "}\n",
    "\n",
    "# Шаг 2: Создание корпуса текста с использованием quanteda\n",
    "corpus <- corpus(text_data)\n",
    "\n",
    "# Создание списка своих стоп-слов\n",
    "my_stopwords <- c(stopwords(\"ru\"), \"фр\", \"тебе\", \"веры\", \"сапросил\", \"говорил\", \"говорила\", \"ах\", \"бабушки\", \"вера\", \n",
    "                  \"райского\", \"марковна\", \"райский\", \"татьяна\", \"марфинька\", \"марк\", \"бабушка\", \"сказал\", \"сказала\", \n",
    "                  \"не\", \"на\", \"только\", \"с\", \"к\", \"я\", \"о\", \"а\", \"ему\", \"от\", \"у\", \"она\", \"но\", \"так\", \"все\", \"было\", \n",
    "                  \"что\", \"и\", \"в\", \"его\", \"как\", \"из\", \"еще\", \"за\", \"это\", \"бы\", \"вы\", \"то\", \"он\", \"же\", \"по\", \"ее\", \n",
    "                  \"это\", \"в\", \"с\", \"и\", \"который\", \"свой\", \"весь\", \"хотя\", \"вообще\", \"ох\", \"всё\", \"ты\", \"который\", \n",
    "                  \"которые\", \"ежели\", \"очень\", \"бы\", \"что-то\", \"—\", \"…\", \"— \", \" —\")\n",
    "\n",
    "# Шаг 3: Очистка текста и создание токенов\n",
    "tokens <- tokens(corpus, \n",
    "                 remove_punct = TRUE,  # Удаление знаков препинания\n",
    "                 remove_numbers = TRUE,  # Удаление чисел\n",
    "                 remove_symbols = TRUE,  # Удаление символов\n",
    "                 remove_separators = TRUE)  # Удаление разделителей\n",
    "\n",
    "# Приведение токенов к нижнему регистру и удаление своих стоп-слов\n",
    "tokens <- tokens_tolower(tokens)\n",
    "tokens <- tokens_remove(tokens, my_stopwords)  # Удаление своих стоп-слов\n",
    "\n",
    "# Проверка на наличие пустых токенов\n",
    "tokens <- tokens[ntoken(tokens) > 0]\n",
    "\n",
    "# Проверка структуры токенов\n",
    "# print(str(tokens))\n",
    "\n",
    "# Шаг 5: Создание документ-термин матрицы (DTM)\n",
    "dtm <- dfm(tokens)\n",
    "\n",
    "# Проверка структуры DTM\n",
    "# print(str(dtm))\n",
    "\n",
    "# Шаг 6: Преобразование DTM в data.frame\n",
    "term_matrix_df <- convert(dtm, to = \"data.frame\")\n",
    "\n",
    "# Проверка структуры итогового data.frame\n",
    "# print(str(term_matrix_df))"
   ]
  },
  {
   "cell_type": "code",
   "execution_count": null,
   "id": "50aa1df0-2f2c-40e2-965a-04f647245d86",
   "metadata": {},
   "outputs": [],
   "source": []
  },
  {
   "cell_type": "code",
   "execution_count": null,
   "id": "1e62cb5e-3548-466e-8850-2af3ef52bcdf",
   "metadata": {},
   "outputs": [],
   "source": []
  },
  {
   "cell_type": "code",
   "execution_count": null,
   "id": "e5b7bc5a-ee13-4f8d-aade-1fbbe56a6270",
   "metadata": {},
   "outputs": [],
   "source": []
  }
 ],
 "metadata": {
  "kernelspec": {
   "display_name": "R",
   "language": "R",
   "name": "ir"
  },
  "language_info": {
   "codemirror_mode": "r",
   "file_extension": ".r",
   "mimetype": "text/x-r-source",
   "name": "R",
   "pygments_lexer": "r",
   "version": "4.1.1"
  }
 },
 "nbformat": 4,
 "nbformat_minor": 5
}
