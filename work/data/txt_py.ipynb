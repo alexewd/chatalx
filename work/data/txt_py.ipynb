{
 "cells": [
  {
   "cell_type": "code",
   "execution_count": 4,
   "id": "3a4cff39-8b66-495f-88a4-e9a27a3d60d6",
   "metadata": {},
   "outputs": [
    {
     "name": "stdout",
     "output_type": "stream",
     "text": [
      "14845206528\n"
     ]
    }
   ],
   "source": [
    "import psutil\n",
    "import pandas as pd\n",
    "import csv\n",
    "svmem = psutil.virtual_memory()\n",
    "print(svmem.available)"
   ]
  },
  {
   "cell_type": "code",
   "execution_count": 1,
   "id": "eba14a77-d13f-423a-959f-edceee36eaaa",
   "metadata": {},
   "outputs": [
    {
     "name": "stdout",
     "output_type": "stream",
     "text": [
      "Requirement already satisfied: psutil in /opt/conda/lib/python3.11/site-packages (5.9.5)\n"
     ]
    }
   ],
   "source": [
    "# !pip install psutil"
   ]
  },
  {
   "cell_type": "code",
   "execution_count": 27,
   "id": "5713688f-ae5f-4612-a2df-cd8f1158eac9",
   "metadata": {},
   "outputs": [],
   "source": [
    "PATH = '/home/jovyan/work/data/X5_Magnit_Material.csv'\n",
    "\n",
    "# df_sample = pd.read_csv(\"http://127.0.0.1:8888/files/data/X5_Magnit_Material.csv\", nrows=10)"
   ]
  },
  {
   "cell_type": "code",
   "execution_count": 28,
   "id": "e71a65ad-5d10-4485-82c5-e4d91cb5b319",
   "metadata": {},
   "outputs": [
    {
     "data": {
      "text/plain": [
       "'/home/jovyan/work/data'"
      ]
     },
     "execution_count": 28,
     "metadata": {},
     "output_type": "execute_result"
    }
   ],
   "source": [
    "import os\n",
    "os.getcwd()"
   ]
  },
  {
   "cell_type": "code",
   "execution_count": 29,
   "id": "e6a84e51-8b9a-4180-a4d6-a43557f59654",
   "metadata": {},
   "outputs": [
    {
     "name": "stdout",
     "output_type": "stream",
     "text": [
      "612\n",
      "   Модель код                                             Модель  \\\n",
      "0  CNT-000038                   Шторка ночная CARRIRIER AIW 2500   \n",
      "1  CNT-000055                                Комиссия за перевод   \n",
      "2  CNT-000056                                         Инкассация   \n",
      "3  CNT-000058         Электроснабжение, плата за энергию (Квт*ч)   \n",
      "4  CNT-000067           Не учит.при Н/О Электроснабжение (Квт*ч)   \n",
      "5  CNT-000081                      Абонентская плата за ОПС, КТС   \n",
      "6  CNT-000086                        Аренда прочего оборудования   \n",
      "7  CNT-000090                            Проезд Автомобиль/такси   \n",
      "8  CNT-000092  Аренда технологического помещения (постоянная ...   \n",
      "9  CNT-000095                                       Вывоз мусора   \n",
      "\n",
      "                                        Номенклатура  \\\n",
      "0                              Шторки, крышки для ХО   \n",
      "1                                Комиссия за перевод   \n",
      "2                                         Инкассация   \n",
      "3                                   Электроснабжение   \n",
      "4                                   Электроснабжение   \n",
      "5                                  Плата за ОПС, КТС   \n",
      "6  Аренда оборудования и вспомогательных конструкций   \n",
      "7                                             Проезд   \n",
      "8                  Аренда технологического помещения   \n",
      "9                                       Вывоз мусора   \n",
      "\n",
      "                            Блок                                   Уровень 2  \\\n",
      "0                            ЗИП              Запасные части и комплектующие   \n",
      "1              Финансовые услуги                           Финансовые услуги   \n",
      "2        Профессиональные услуги                                  Инкассация   \n",
      "3                   Эксплуатация                         Коммунальные услуги   \n",
      "4                   Эксплуатация                         Коммунальные услуги   \n",
      "5  Охранно-пожарная сигнализация  Оборудование охранно-пожарной сигнализации   \n",
      "6                         не НКЗ                                      Аренда   \n",
      "7                       Персонал                        Социальная поддержка   \n",
      "8                         не НКЗ                                      Аренда   \n",
      "9                   Эксплуатация                                     Клининг   \n",
      "\n",
      "                                           Уровень 3  \n",
      "0                    ЗИП к холодильному оборудованию  \n",
      "1                                  Банковские услуги  \n",
      "2                                         Инкассация  \n",
      "3                                   Электроснабжение  \n",
      "4                                   Электроснабжение  \n",
      "5                                  Плата за ОПС, КТС  \n",
      "6  Аренда оборудования и вспомогательных конструкций  \n",
      "7                   Компенсация расходов сотрудников  \n",
      "8                            Постоянная часть аренды  \n",
      "9                                    Услуги клининга  \n"
     ]
    }
   ],
   "source": [
    "df_sample = pd.read_csv(PATH, nrows=10, sep=';',encoding='utf-8')\n",
    "df_sample_size = df_sample.memory_usage(index=True).sum()\n",
    "print(df_sample_size)\n",
    "print(df_sample)"
   ]
  },
  {
   "cell_type": "code",
   "execution_count": 30,
   "id": "05c306c8-dd48-4f72-a3ea-1cf1deba2157",
   "metadata": {},
   "outputs": [
    {
     "name": "stdout",
     "output_type": "stream",
     "text": [
      "163398\n"
     ]
    }
   ],
   "source": [
    "my_chunk = (1000000000/df_sample_size)/10\n",
    "my_chunk = int(my_chunk//1) # we get the integer part\n",
    "print(my_chunk)"
   ]
  },
  {
   "cell_type": "code",
   "execution_count": 40,
   "id": "1ca70c0e-1653-4a62-816d-02a3f4e20da0",
   "metadata": {},
   "outputs": [
    {
     "data": {
      "text/html": [
       "<div>\n",
       "<style scoped>\n",
       "    .dataframe tbody tr th:only-of-type {\n",
       "        vertical-align: middle;\n",
       "    }\n",
       "\n",
       "    .dataframe tbody tr th {\n",
       "        vertical-align: top;\n",
       "    }\n",
       "\n",
       "    .dataframe thead th {\n",
       "        text-align: right;\n",
       "    }\n",
       "</style>\n",
       "<table border=\"1\" class=\"dataframe\">\n",
       "  <thead>\n",
       "    <tr style=\"text-align: right;\">\n",
       "      <th></th>\n",
       "      <th>Модель код</th>\n",
       "      <th>Модель</th>\n",
       "      <th>Номенклатура</th>\n",
       "      <th>Блок</th>\n",
       "      <th>Уровень 2</th>\n",
       "      <th>Уровень 3</th>\n",
       "    </tr>\n",
       "  </thead>\n",
       "  <tbody>\n",
       "    <tr>\n",
       "      <th>0</th>\n",
       "      <td>CNT-000038</td>\n",
       "      <td>Шторка ночная CARRIRIER AIW 2500</td>\n",
       "      <td>Шторки, крышки для ХО</td>\n",
       "      <td>ЗИП</td>\n",
       "      <td>Запасные части и комплектующие</td>\n",
       "      <td>ЗИП к холодильному оборудованию</td>\n",
       "    </tr>\n",
       "    <tr>\n",
       "      <th>1</th>\n",
       "      <td>CNT-000055</td>\n",
       "      <td>Комиссия за перевод</td>\n",
       "      <td>Комиссия за перевод</td>\n",
       "      <td>Финансовые услуги</td>\n",
       "      <td>Финансовые услуги</td>\n",
       "      <td>Банковские услуги</td>\n",
       "    </tr>\n",
       "    <tr>\n",
       "      <th>9</th>\n",
       "      <td>CNT-000095</td>\n",
       "      <td>Вывоз мусора</td>\n",
       "      <td>Вывоз мусора</td>\n",
       "      <td>Эксплуатация</td>\n",
       "      <td>Клининг</td>\n",
       "      <td>Услуги клининга</td>\n",
       "    </tr>\n",
       "    <tr>\n",
       "      <th>7</th>\n",
       "      <td>CNT-000090</td>\n",
       "      <td>Проезд Автомобиль/такси</td>\n",
       "      <td>Проезд</td>\n",
       "      <td>Персонал</td>\n",
       "      <td>Социальная поддержка</td>\n",
       "      <td>Компенсация расходов сотрудников</td>\n",
       "    </tr>\n",
       "    <tr>\n",
       "      <th>4</th>\n",
       "      <td>CNT-000067</td>\n",
       "      <td>Не учит.при Н/О Электроснабжение (Квт*ч)</td>\n",
       "      <td>Электроснабжение</td>\n",
       "      <td>Эксплуатация</td>\n",
       "      <td>Коммунальные услуги</td>\n",
       "      <td>Электроснабжение</td>\n",
       "    </tr>\n",
       "  </tbody>\n",
       "</table>\n",
       "</div>"
      ],
      "text/plain": [
       "   Модель код                                    Модель  \\\n",
       "0  CNT-000038          Шторка ночная CARRIRIER AIW 2500   \n",
       "1  CNT-000055                       Комиссия за перевод   \n",
       "9  CNT-000095                              Вывоз мусора   \n",
       "7  CNT-000090                   Проезд Автомобиль/такси   \n",
       "4  CNT-000067  Не учит.при Н/О Электроснабжение (Квт*ч)   \n",
       "\n",
       "            Номенклатура               Блок                       Уровень 2  \\\n",
       "0  Шторки, крышки для ХО                ЗИП  Запасные части и комплектующие   \n",
       "1    Комиссия за перевод  Финансовые услуги               Финансовые услуги   \n",
       "9           Вывоз мусора       Эксплуатация                         Клининг   \n",
       "7                 Проезд           Персонал            Социальная поддержка   \n",
       "4       Электроснабжение       Эксплуатация             Коммунальные услуги   \n",
       "\n",
       "                          Уровень 3  \n",
       "0   ЗИП к холодильному оборудованию  \n",
       "1                 Банковские услуги  \n",
       "9                   Услуги клининга  \n",
       "7  Компенсация расходов сотрудников  \n",
       "4                  Электроснабжение  "
      ]
     },
     "execution_count": 40,
     "metadata": {},
     "output_type": "execute_result"
    }
   ],
   "source": [
    "df_sample.sample(5)"
   ]
  },
  {
   "cell_type": "code",
   "execution_count": null,
   "id": "abf77fe9-917b-437d-9d16-5e5a3a412227",
   "metadata": {},
   "outputs": [],
   "source": []
  },
  {
   "cell_type": "code",
   "execution_count": null,
   "id": "790e32ba-d163-446b-93fb-602ed681ea81",
   "metadata": {},
   "outputs": [],
   "source": []
  }
 ],
 "metadata": {
  "kernelspec": {
   "display_name": "Python 3 (ipykernel)",
   "language": "python",
   "name": "python3"
  },
  "language_info": {
   "codemirror_mode": {
    "name": "ipython",
    "version": 3
   },
   "file_extension": ".py",
   "mimetype": "text/x-python",
   "name": "python",
   "nbconvert_exporter": "python",
   "pygments_lexer": "ipython3",
   "version": "3.11.6"
  }
 },
 "nbformat": 4,
 "nbformat_minor": 5
}
