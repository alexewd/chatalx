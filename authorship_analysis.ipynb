{
 "cells": [
  {
   "cell_type": "markdown",
   "metadata": {},
   "source": [
    "# Анализ авторства текстов\n",
    "Этот блокнот анализирует два текстовых файла (`author_1.txt` и `author_2.txt`) для определения авторства с использованием частотности слов, длины предложений и нечёткого поиска."
   ]
  },
  {
   "cell_type": "markdown",
   "metadata": {},
   "source": [
    "## Установка зависимостей\n",
    "Убедитесь, что у вас установлены необходимые библиотеки. Выполните эту команду в терминале или ячейке с `!`:"
   ]
  },
  {
   "cell_type": "code",
   "execution_count": null,
   "metadata": {},
   "outputs": [],
   "source": [
    "# !pip install nltk fuzzywuzzy python-Levenshtein matplotlib"
   ]
  },
  {
   "cell_type": "markdown",
   "metadata": {},
   "source": [
    "## Импорт библиотек и настройка\n",
    "Импортируем библиотеки и загружаем данные для NLTK."
   ]
  },
  {
   "cell_type": "code",
   "execution_count": 2,
   "metadata": {},
   "outputs": [
    {
     "name": "stderr",
     "output_type": "stream",
     "text": [
      "c:\\Python313\\Lib\\site-packages\\fuzzywuzzy\\fuzz.py:11: UserWarning: Using slow pure-python SequenceMatcher. Install python-Levenshtein to remove this warning\n",
      "  warnings.warn('Using slow pure-python SequenceMatcher. Install python-Levenshtein to remove this warning')\n",
      "[nltk_data] Downloading package punkt to\n",
      "[nltk_data]     C:\\Users\\alexewd\\AppData\\Roaming\\nltk_data...\n",
      "[nltk_data]   Package punkt is already up-to-date!\n",
      "[nltk_data] Downloading package stopwords to\n",
      "[nltk_data]     C:\\Users\\alexewd\\AppData\\Roaming\\nltk_data...\n",
      "[nltk_data]   Unzipping corpora\\stopwords.zip.\n"
     ]
    }
   ],
   "source": [
    "import nltk\n",
    "from nltk.tokenize import word_tokenize, sent_tokenize\n",
    "from nltk.corpus import stopwords\n",
    "from collections import Counter\n",
    "import re\n",
    "from fuzzywuzzy import fuzz\n",
    "import matplotlib.pyplot as plt\n",
    "\n",
    "# Загрузка данных NLTK\n",
    "nltk.download('punkt')\n",
    "nltk.download('stopwords')\n",
    "\n",
    "# Установка отображения графиков в ноутбуке\n",
    "%matplotlib inline"
   ]
  },
  {
   "cell_type": "markdown",
   "metadata": {},
   "source": [
    "## Функции для анализа\n",
    "Определяем функции для чтения файлов, очистки текста и анализа."
   ]
  },
  {
   "cell_type": "code",
   "execution_count": 3,
   "metadata": {},
   "outputs": [],
   "source": [
    "# Чтение текстового файла\n",
    "def read_file(file_path):\n",
    "    with open(file_path, 'r', encoding='utf-8') as file:\n",
    "        return file.read()\n",
    "\n",
    "# Очистка текста\n",
    "def clean_text(text):\n",
    "    text = text.lower()\n",
    "    text = re.sub(r'[^\\w\\s]', '', text)  # Удаляем знаки препинания\n",
    "    return text\n",
    "\n",
    "# Частотность слов\n",
    "def word_frequency(text):\n",
    "    words = word_tokenize(clean_text(text))\n",
    "    stop_words = set(stopwords.words('english'))  # Замените на 'russian' для русского текста\n",
    "    words = [word for word in words if word not in stop_words]\n",
    "    return Counter(words)\n",
    "\n",
    "# Анализ длины предложений\n",
    "def sentence_length_analysis(text):\n",
    "    sentences = sent_tokenize(text)\n",
    "    lengths = [len(word_tokenize(sent)) for sent in sentences]\n",
    "    return sum(lengths) / len(lengths) if lengths else 0, lengths\n",
    "\n",
    "# Нечёткое сравнение\n",
    "def fuzzy_comparison(text1, text2, sample_size=1000):\n",
    "    text1_chunk = clean_text(text1)[:sample_size]\n",
    "    text2_chunk = clean_text(text2)[:sample_size]\n",
    "    return fuzz.ratio(text1_chunk, text2_chunk)"
   ]
  },
  {
   "cell_type": "markdown",
   "metadata": {},
   "source": [
    "## Основной анализ\n",
    "Загружаем файлы и проводим анализ."
   ]
  },
  {
   "cell_type": "code",
   "execution_count": 4,
   "metadata": {},
   "outputs": [
    {
     "name": "stderr",
     "output_type": "stream",
     "text": [
      "<>:2: SyntaxWarning: invalid escape sequence '\\c'\n",
      "<>:3: SyntaxWarning: invalid escape sequence '\\c'\n",
      "<>:2: SyntaxWarning: invalid escape sequence '\\c'\n",
      "<>:3: SyntaxWarning: invalid escape sequence '\\c'\n",
      "C:\\Users\\alexewd\\AppData\\Local\\Temp\\ipykernel_984\\4187228490.py:2: SyntaxWarning: invalid escape sequence '\\c'\n",
      "  file1 = \"f:\\chatepc\\chatalx\\work\\data\\sevastopol.txt\"\n",
      "C:\\Users\\alexewd\\AppData\\Local\\Temp\\ipykernel_984\\4187228490.py:3: SyntaxWarning: invalid escape sequence '\\c'\n",
      "  file2 = \"f:\\chatepc\\chatalx\\work\\data\\oblomov.txt\"\n"
     ]
    },
    {
     "name": "stdout",
     "output_type": "stream",
     "text": [
      "Топ-10 слов в f:\\chatepc\\chatalx\\work\\data\\sevastopol.txt: [('и', 1687), ('в', 859), ('на', 721), ('не', 622), ('он', 562), ('с', 537), ('что', 508), ('как', 346), ('а', 238), ('я', 232)]\n",
      "Топ-10 слов в f:\\chatepc\\chatalx\\work\\data\\oblomov.txt: [('и', 6016), ('не', 3896), ('в', 3525), ('он', 2626), ('что', 2406), ('на', 2401), ('с', 2038), ('она', 1633), ('а', 1574), ('как', 1535)]\n",
      "Количество общих слов: 4548\n",
      "Средняя длина предложений в f:\\chatepc\\chatalx\\work\\data\\sevastopol.txt: 20.48 слов\n",
      "Средняя длина предложений в f:\\chatepc\\chatalx\\work\\data\\oblomov.txt: 15.38 слов\n",
      "Нечёткое сходство между текстами: 1%\n"
     ]
    }
   ],
   "source": [
    "# Укажите пути к файлам\n",
    "file1 = \"f:\\chatepc\\chatalx\\work\\data\\sevastopol.txt\"\n",
    "file2 = \"f:\\chatepc\\chatalx\\work\\data\\oblomov.txt\"\n",
    "\n",
    "# Чтение текстов\n",
    "text1 = read_file(file1)\n",
    "text2 = read_file(file2)\n",
    "\n",
    "# Частотность слов\n",
    "freq1 = word_frequency(text1)\n",
    "freq2 = word_frequency(text2)\n",
    "\n",
    "# Вывод топ-10 слов\n",
    "print(f\"Топ-10 слов в {file1}: {freq1.most_common(10)}\")\n",
    "print(f\"Топ-10 слов в {file2}: {freq2.most_common(10)}\")\n",
    "\n",
    "# Пересечение общих слов\n",
    "common_words = set(freq1.keys()) & set(freq2.keys())\n",
    "print(f\"Количество общих слов: {len(common_words)}\")\n",
    "\n",
    "# Анализ длины предложений\n",
    "avg_len1, lengths1 = sentence_length_analysis(text1)\n",
    "avg_len2, lengths2 = sentence_length_analysis(text2)\n",
    "print(f\"Средняя длина предложений в {file1}: {avg_len1:.2f} слов\")\n",
    "print(f\"Средняя длина предложений в {file2}: {avg_len2:.2f} слов\")\n",
    "\n",
    "# Нечёткое сравнение\n",
    "fuzzy_score = fuzzy_comparison(text1, text2)\n",
    "print(f\"Нечёткое сходство между текстами: {fuzzy_score}%\")"
   ]
  },
  {
   "cell_type": "markdown",
   "metadata": {},
   "source": [
    "## Визуализация\n",
    "Строим гистограмму распределения длины предложений."
   ]
  },
  {
   "cell_type": "code",
   "execution_count": 5,
   "metadata": {},
   "outputs": [
    {
     "data": {
      "image/png": "[encoded data removed]",
      "text/plain": [
       "<Figure size 640x480 with 1 Axes>"
      ]
     },
     "metadata": {},
     "output_type": "display_data"
    }
   ],
   "source": [
    "plt.hist(lengths1, bins=20, alpha=0.5, label=file1)\n",
    "plt.hist(lengths2, bins=20, alpha=0.5, label=file2)\n",
    "plt.legend(loc='upper right')\n",
    "plt.title('Распределение длины предложений')\n",
    "plt.xlabel('Количество слов в предложении')\n",
    "plt.ylabel('Частота')\n",
    "plt.show()"
   ]
  }
 ],
 "metadata": {
  "kernelspec": {
   "display_name": "Python 3",
   "language": "python",
   "name": "python3"
  },
  "language_info": {
   "codemirror_mode": {
    "name": "ipython",
    "version": 3
   },
   "file_extension": ".py",
   "mimetype": "text/x-python",
   "name": "python",
   "nbconvert_exporter": "python",
   "pygments_lexer": "ipython3",
   "version": "3.13.1"
  }
 },
 "nbformat": 4,
 "nbformat_minor": 5
}
